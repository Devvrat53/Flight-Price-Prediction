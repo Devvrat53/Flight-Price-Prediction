{
    "cells": [
        {
            "cell_type": "code",
            "execution_count": 1,
            "metadata": {},
            "outputs": [],
            "source": "import numpy as np\nimport matplotlib.pyplot as plt\nimport seaborn as sns\n%matplotlib inline\n%matplotlib notebook"
        },
        {
            "cell_type": "code",
            "execution_count": 2,
            "metadata": {},
            "outputs": [
                {
                    "data": {
                        "text/html": "<div>\n<style scoped>\n    .dataframe tbody tr th:only-of-type {\n        vertical-align: middle;\n    }\n\n    .dataframe tbody tr th {\n        vertical-align: top;\n    }\n\n    .dataframe thead th {\n        text-align: right;\n    }\n</style>\n<table border=\"1\" class=\"dataframe\">\n  <thead>\n    <tr style=\"text-align: right;\">\n      <th></th>\n      <th>Airline</th>\n      <th>Date_of_Journey</th>\n      <th>Source</th>\n      <th>Destination</th>\n      <th>Route</th>\n      <th>Dep_Time</th>\n      <th>Arrival_Time</th>\n      <th>Duration</th>\n      <th>Total_Stops</th>\n      <th>Additional_Info</th>\n      <th>Price</th>\n    </tr>\n  </thead>\n  <tbody>\n    <tr>\n      <th>0</th>\n      <td>IndiGo</td>\n      <td>24/03/2019</td>\n      <td>Banglore</td>\n      <td>New Delhi</td>\n      <td>BLR \u2192 DEL</td>\n      <td>22:20</td>\n      <td>01:10 22 Mar</td>\n      <td>2h 50m</td>\n      <td>non-stop</td>\n      <td>No info</td>\n      <td>3897</td>\n    </tr>\n    <tr>\n      <th>1</th>\n      <td>Air India</td>\n      <td>1/05/2019</td>\n      <td>Kolkata</td>\n      <td>Banglore</td>\n      <td>CCU \u2192 IXR \u2192 BBI \u2192 BLR</td>\n      <td>05:50</td>\n      <td>13:15</td>\n      <td>7h 25m</td>\n      <td>2 stops</td>\n      <td>No info</td>\n      <td>7662</td>\n    </tr>\n    <tr>\n      <th>2</th>\n      <td>Jet Airways</td>\n      <td>9/06/2019</td>\n      <td>Delhi</td>\n      <td>Cochin</td>\n      <td>DEL \u2192 LKO \u2192 BOM \u2192 COK</td>\n      <td>09:25</td>\n      <td>04:25 10 Jun</td>\n      <td>19h</td>\n      <td>2 stops</td>\n      <td>No info</td>\n      <td>13882</td>\n    </tr>\n    <tr>\n      <th>3</th>\n      <td>IndiGo</td>\n      <td>12/05/2019</td>\n      <td>Kolkata</td>\n      <td>Banglore</td>\n      <td>CCU \u2192 NAG \u2192 BLR</td>\n      <td>18:05</td>\n      <td>23:30</td>\n      <td>5h 25m</td>\n      <td>1 stop</td>\n      <td>No info</td>\n      <td>6218</td>\n    </tr>\n    <tr>\n      <th>4</th>\n      <td>IndiGo</td>\n      <td>01/03/2019</td>\n      <td>Banglore</td>\n      <td>New Delhi</td>\n      <td>BLR \u2192 NAG \u2192 DEL</td>\n      <td>16:50</td>\n      <td>21:35</td>\n      <td>4h 45m</td>\n      <td>1 stop</td>\n      <td>No info</td>\n      <td>13302</td>\n    </tr>\n  </tbody>\n</table>\n</div>",
                        "text/plain": "       Airline Date_of_Journey    Source Destination                  Route  \\\n0       IndiGo      24/03/2019  Banglore   New Delhi              BLR \u2192 DEL   \n1    Air India       1/05/2019   Kolkata    Banglore  CCU \u2192 IXR \u2192 BBI \u2192 BLR   \n2  Jet Airways       9/06/2019     Delhi      Cochin  DEL \u2192 LKO \u2192 BOM \u2192 COK   \n3       IndiGo      12/05/2019   Kolkata    Banglore        CCU \u2192 NAG \u2192 BLR   \n4       IndiGo      01/03/2019  Banglore   New Delhi        BLR \u2192 NAG \u2192 DEL   \n\n  Dep_Time  Arrival_Time Duration Total_Stops Additional_Info  Price  \n0    22:20  01:10 22 Mar   2h 50m    non-stop         No info   3897  \n1    05:50         13:15   7h 25m     2 stops         No info   7662  \n2    09:25  04:25 10 Jun      19h     2 stops         No info  13882  \n3    18:05         23:30   5h 25m      1 stop         No info   6218  \n4    16:50         21:35   4h 45m      1 stop         No info  13302  "
                    },
                    "execution_count": 2,
                    "metadata": {},
                    "output_type": "execute_result"
                }
            ],
            "source": "# The code was removed by Watson Studio for sharing."
        },
        {
            "cell_type": "code",
            "execution_count": 3,
            "metadata": {},
            "outputs": [
                {
                    "data": {
                        "text/html": "<div>\n<style scoped>\n    .dataframe tbody tr th:only-of-type {\n        vertical-align: middle;\n    }\n\n    .dataframe tbody tr th {\n        vertical-align: top;\n    }\n\n    .dataframe thead th {\n        text-align: right;\n    }\n</style>\n<table border=\"1\" class=\"dataframe\">\n  <thead>\n    <tr style=\"text-align: right;\">\n      <th></th>\n      <th>Airline</th>\n      <th>Date_of_Journey</th>\n      <th>Source</th>\n      <th>Destination</th>\n      <th>Route</th>\n      <th>Dep_Time</th>\n      <th>Arrival_Time</th>\n      <th>Duration</th>\n      <th>Total_Stops</th>\n      <th>Additional_Info</th>\n    </tr>\n  </thead>\n  <tbody>\n    <tr>\n      <th>0</th>\n      <td>Jet Airways</td>\n      <td>6/06/2019</td>\n      <td>Delhi</td>\n      <td>Cochin</td>\n      <td>DEL \u2192 BOM \u2192 COK</td>\n      <td>17:30</td>\n      <td>04:25 07 Jun</td>\n      <td>10h 55m</td>\n      <td>1 stop</td>\n      <td>No info</td>\n    </tr>\n    <tr>\n      <th>1</th>\n      <td>IndiGo</td>\n      <td>12/05/2019</td>\n      <td>Kolkata</td>\n      <td>Banglore</td>\n      <td>CCU \u2192 MAA \u2192 BLR</td>\n      <td>06:20</td>\n      <td>10:20</td>\n      <td>4h</td>\n      <td>1 stop</td>\n      <td>No info</td>\n    </tr>\n    <tr>\n      <th>2</th>\n      <td>Jet Airways</td>\n      <td>21/05/2019</td>\n      <td>Delhi</td>\n      <td>Cochin</td>\n      <td>DEL \u2192 BOM \u2192 COK</td>\n      <td>19:15</td>\n      <td>19:00 22 May</td>\n      <td>23h 45m</td>\n      <td>1 stop</td>\n      <td>In-flight meal not included</td>\n    </tr>\n    <tr>\n      <th>3</th>\n      <td>Multiple carriers</td>\n      <td>21/05/2019</td>\n      <td>Delhi</td>\n      <td>Cochin</td>\n      <td>DEL \u2192 BOM \u2192 COK</td>\n      <td>08:00</td>\n      <td>21:00</td>\n      <td>13h</td>\n      <td>1 stop</td>\n      <td>No info</td>\n    </tr>\n    <tr>\n      <th>4</th>\n      <td>Air Asia</td>\n      <td>24/06/2019</td>\n      <td>Banglore</td>\n      <td>Delhi</td>\n      <td>BLR \u2192 DEL</td>\n      <td>23:55</td>\n      <td>02:45 25 Jun</td>\n      <td>2h 50m</td>\n      <td>non-stop</td>\n      <td>No info</td>\n    </tr>\n  </tbody>\n</table>\n</div>",
                        "text/plain": "             Airline Date_of_Journey    Source Destination            Route  \\\n0        Jet Airways       6/06/2019     Delhi      Cochin  DEL \u2192 BOM \u2192 COK   \n1             IndiGo      12/05/2019   Kolkata    Banglore  CCU \u2192 MAA \u2192 BLR   \n2        Jet Airways      21/05/2019     Delhi      Cochin  DEL \u2192 BOM \u2192 COK   \n3  Multiple carriers      21/05/2019     Delhi      Cochin  DEL \u2192 BOM \u2192 COK   \n4           Air Asia      24/06/2019  Banglore       Delhi        BLR \u2192 DEL   \n\n  Dep_Time  Arrival_Time Duration Total_Stops              Additional_Info  \n0    17:30  04:25 07 Jun  10h 55m      1 stop                      No info  \n1    06:20         10:20       4h      1 stop                      No info  \n2    19:15  19:00 22 May  23h 45m      1 stop  In-flight meal not included  \n3    08:00         21:00      13h      1 stop                      No info  \n4    23:55  02:45 25 Jun   2h 50m    non-stop                      No info  "
                    },
                    "execution_count": 3,
                    "metadata": {},
                    "output_type": "execute_result"
                }
            ],
            "source": "# The code was removed by Watson Studio for sharing."
        },
        {
            "cell_type": "code",
            "execution_count": 4,
            "metadata": {},
            "outputs": [
                {
                    "data": {
                        "text/html": "<div>\n<style scoped>\n    .dataframe tbody tr th:only-of-type {\n        vertical-align: middle;\n    }\n\n    .dataframe tbody tr th {\n        vertical-align: top;\n    }\n\n    .dataframe thead th {\n        text-align: right;\n    }\n</style>\n<table border=\"1\" class=\"dataframe\">\n  <thead>\n    <tr style=\"text-align: right;\">\n      <th></th>\n      <th>Airline</th>\n      <th>Date_of_Journey</th>\n      <th>Source</th>\n      <th>Destination</th>\n      <th>Route</th>\n      <th>Dep_Time</th>\n      <th>Arrival_Time</th>\n      <th>Duration</th>\n      <th>Total_Stops</th>\n      <th>Additional_Info</th>\n      <th>Price</th>\n    </tr>\n  </thead>\n  <tbody>\n    <tr>\n      <th>0</th>\n      <td>IndiGo</td>\n      <td>24/03/2019</td>\n      <td>Banglore</td>\n      <td>New Delhi</td>\n      <td>BLR \u2192 DEL</td>\n      <td>22:20</td>\n      <td>01:10 22 Mar</td>\n      <td>2h 50m</td>\n      <td>non-stop</td>\n      <td>No info</td>\n      <td>3897.0</td>\n    </tr>\n    <tr>\n      <th>1</th>\n      <td>Air India</td>\n      <td>1/05/2019</td>\n      <td>Kolkata</td>\n      <td>Banglore</td>\n      <td>CCU \u2192 IXR \u2192 BBI \u2192 BLR</td>\n      <td>05:50</td>\n      <td>13:15</td>\n      <td>7h 25m</td>\n      <td>2 stops</td>\n      <td>No info</td>\n      <td>7662.0</td>\n    </tr>\n    <tr>\n      <th>2</th>\n      <td>Jet Airways</td>\n      <td>9/06/2019</td>\n      <td>Delhi</td>\n      <td>Cochin</td>\n      <td>DEL \u2192 LKO \u2192 BOM \u2192 COK</td>\n      <td>09:25</td>\n      <td>04:25 10 Jun</td>\n      <td>19h</td>\n      <td>2 stops</td>\n      <td>No info</td>\n      <td>13882.0</td>\n    </tr>\n    <tr>\n      <th>3</th>\n      <td>IndiGo</td>\n      <td>12/05/2019</td>\n      <td>Kolkata</td>\n      <td>Banglore</td>\n      <td>CCU \u2192 NAG \u2192 BLR</td>\n      <td>18:05</td>\n      <td>23:30</td>\n      <td>5h 25m</td>\n      <td>1 stop</td>\n      <td>No info</td>\n      <td>6218.0</td>\n    </tr>\n    <tr>\n      <th>4</th>\n      <td>IndiGo</td>\n      <td>01/03/2019</td>\n      <td>Banglore</td>\n      <td>New Delhi</td>\n      <td>BLR \u2192 NAG \u2192 DEL</td>\n      <td>16:50</td>\n      <td>21:35</td>\n      <td>4h 45m</td>\n      <td>1 stop</td>\n      <td>No info</td>\n      <td>13302.0</td>\n    </tr>\n  </tbody>\n</table>\n</div>",
                        "text/plain": "       Airline Date_of_Journey    Source Destination                  Route  \\\n0       IndiGo      24/03/2019  Banglore   New Delhi              BLR \u2192 DEL   \n1    Air India       1/05/2019   Kolkata    Banglore  CCU \u2192 IXR \u2192 BBI \u2192 BLR   \n2  Jet Airways       9/06/2019     Delhi      Cochin  DEL \u2192 LKO \u2192 BOM \u2192 COK   \n3       IndiGo      12/05/2019   Kolkata    Banglore        CCU \u2192 NAG \u2192 BLR   \n4       IndiGo      01/03/2019  Banglore   New Delhi        BLR \u2192 NAG \u2192 DEL   \n\n  Dep_Time  Arrival_Time Duration Total_Stops Additional_Info    Price  \n0    22:20  01:10 22 Mar   2h 50m    non-stop         No info   3897.0  \n1    05:50         13:15   7h 25m     2 stops         No info   7662.0  \n2    09:25  04:25 10 Jun      19h     2 stops         No info  13882.0  \n3    18:05         23:30   5h 25m      1 stop         No info   6218.0  \n4    16:50         21:35   4h 45m      1 stop         No info  13302.0  "
                    },
                    "execution_count": 4,
                    "metadata": {},
                    "output_type": "execute_result"
                }
            ],
            "source": "df = df_train.append(df_test, sort= False)\ndf.head()"
        },
        {
            "cell_type": "code",
            "execution_count": 5,
            "metadata": {},
            "outputs": [
                {
                    "data": {
                        "text/html": "<div>\n<style scoped>\n    .dataframe tbody tr th:only-of-type {\n        vertical-align: middle;\n    }\n\n    .dataframe tbody tr th {\n        vertical-align: top;\n    }\n\n    .dataframe thead th {\n        text-align: right;\n    }\n</style>\n<table border=\"1\" class=\"dataframe\">\n  <thead>\n    <tr style=\"text-align: right;\">\n      <th></th>\n      <th>Airline</th>\n      <th>Date_of_Journey</th>\n      <th>Source</th>\n      <th>Destination</th>\n      <th>Route</th>\n      <th>Dep_Time</th>\n      <th>Arrival_Time</th>\n      <th>Duration</th>\n      <th>Total_Stops</th>\n      <th>Additional_Info</th>\n      <th>Price</th>\n    </tr>\n  </thead>\n  <tbody>\n    <tr>\n      <th>2666</th>\n      <td>Air India</td>\n      <td>6/06/2019</td>\n      <td>Kolkata</td>\n      <td>Banglore</td>\n      <td>CCU \u2192 DEL \u2192 BLR</td>\n      <td>20:30</td>\n      <td>20:25 07 Jun</td>\n      <td>23h 55m</td>\n      <td>1 stop</td>\n      <td>No info</td>\n      <td>NaN</td>\n    </tr>\n    <tr>\n      <th>2667</th>\n      <td>IndiGo</td>\n      <td>27/03/2019</td>\n      <td>Kolkata</td>\n      <td>Banglore</td>\n      <td>CCU \u2192 BLR</td>\n      <td>14:20</td>\n      <td>16:55</td>\n      <td>2h 35m</td>\n      <td>non-stop</td>\n      <td>No info</td>\n      <td>NaN</td>\n    </tr>\n    <tr>\n      <th>2668</th>\n      <td>Jet Airways</td>\n      <td>6/03/2019</td>\n      <td>Delhi</td>\n      <td>Cochin</td>\n      <td>DEL \u2192 BOM \u2192 COK</td>\n      <td>21:50</td>\n      <td>04:25 07 Mar</td>\n      <td>6h 35m</td>\n      <td>1 stop</td>\n      <td>No info</td>\n      <td>NaN</td>\n    </tr>\n    <tr>\n      <th>2669</th>\n      <td>Air India</td>\n      <td>6/03/2019</td>\n      <td>Delhi</td>\n      <td>Cochin</td>\n      <td>DEL \u2192 BOM \u2192 COK</td>\n      <td>04:00</td>\n      <td>19:15</td>\n      <td>15h 15m</td>\n      <td>1 stop</td>\n      <td>No info</td>\n      <td>NaN</td>\n    </tr>\n    <tr>\n      <th>2670</th>\n      <td>Multiple carriers</td>\n      <td>15/06/2019</td>\n      <td>Delhi</td>\n      <td>Cochin</td>\n      <td>DEL \u2192 BOM \u2192 COK</td>\n      <td>04:55</td>\n      <td>19:15</td>\n      <td>14h 20m</td>\n      <td>1 stop</td>\n      <td>No info</td>\n      <td>NaN</td>\n    </tr>\n  </tbody>\n</table>\n</div>",
                        "text/plain": "                Airline Date_of_Journey   Source Destination            Route  \\\n2666          Air India       6/06/2019  Kolkata    Banglore  CCU \u2192 DEL \u2192 BLR   \n2667             IndiGo      27/03/2019  Kolkata    Banglore        CCU \u2192 BLR   \n2668        Jet Airways       6/03/2019    Delhi      Cochin  DEL \u2192 BOM \u2192 COK   \n2669          Air India       6/03/2019    Delhi      Cochin  DEL \u2192 BOM \u2192 COK   \n2670  Multiple carriers      15/06/2019    Delhi      Cochin  DEL \u2192 BOM \u2192 COK   \n\n     Dep_Time  Arrival_Time Duration Total_Stops Additional_Info  Price  \n2666    20:30  20:25 07 Jun  23h 55m      1 stop         No info    NaN  \n2667    14:20         16:55   2h 35m    non-stop         No info    NaN  \n2668    21:50  04:25 07 Mar   6h 35m      1 stop         No info    NaN  \n2669    04:00         19:15  15h 15m      1 stop         No info    NaN  \n2670    04:55         19:15  14h 20m      1 stop         No info    NaN  "
                    },
                    "execution_count": 5,
                    "metadata": {},
                    "output_type": "execute_result"
                }
            ],
            "source": "df.tail()"
        },
        {
            "cell_type": "code",
            "execution_count": 6,
            "metadata": {},
            "outputs": [
                {
                    "data": {
                        "text/plain": "Airline             object\nDate_of_Journey     object\nSource              object\nDestination         object\nRoute               object\nDep_Time            object\nArrival_Time        object\nDuration            object\nTotal_Stops         object\nAdditional_Info     object\nPrice              float64\ndtype: object"
                    },
                    "execution_count": 6,
                    "metadata": {},
                    "output_type": "execute_result"
                }
            ],
            "source": "df.dtypes"
        },
        {
            "cell_type": "code",
            "execution_count": 7,
            "metadata": {},
            "outputs": [
                {
                    "data": {
                        "text/html": "<div>\n<style scoped>\n    .dataframe tbody tr th:only-of-type {\n        vertical-align: middle;\n    }\n\n    .dataframe tbody tr th {\n        vertical-align: top;\n    }\n\n    .dataframe thead th {\n        text-align: right;\n    }\n</style>\n<table border=\"1\" class=\"dataframe\">\n  <thead>\n    <tr style=\"text-align: right;\">\n      <th></th>\n      <th>Airline</th>\n      <th>Date_of_Journey</th>\n      <th>Source</th>\n      <th>Destination</th>\n      <th>Route</th>\n      <th>Dep_Time</th>\n      <th>Arrival_Time</th>\n      <th>Duration</th>\n      <th>Total_Stops</th>\n      <th>Additional_Info</th>\n      <th>Price</th>\n      <th>Date</th>\n      <th>Month</th>\n      <th>Year</th>\n    </tr>\n  </thead>\n  <tbody>\n    <tr>\n      <th>0</th>\n      <td>IndiGo</td>\n      <td>24/03/2019</td>\n      <td>Banglore</td>\n      <td>New Delhi</td>\n      <td>BLR \u2192 DEL</td>\n      <td>22:20</td>\n      <td>01:10 22 Mar</td>\n      <td>2h 50m</td>\n      <td>non-stop</td>\n      <td>No info</td>\n      <td>3897.0</td>\n      <td>24</td>\n      <td>03</td>\n      <td>2019</td>\n    </tr>\n    <tr>\n      <th>1</th>\n      <td>Air India</td>\n      <td>1/05/2019</td>\n      <td>Kolkata</td>\n      <td>Banglore</td>\n      <td>CCU \u2192 IXR \u2192 BBI \u2192 BLR</td>\n      <td>05:50</td>\n      <td>13:15</td>\n      <td>7h 25m</td>\n      <td>2 stops</td>\n      <td>No info</td>\n      <td>7662.0</td>\n      <td>1</td>\n      <td>05</td>\n      <td>2019</td>\n    </tr>\n    <tr>\n      <th>2</th>\n      <td>Jet Airways</td>\n      <td>9/06/2019</td>\n      <td>Delhi</td>\n      <td>Cochin</td>\n      <td>DEL \u2192 LKO \u2192 BOM \u2192 COK</td>\n      <td>09:25</td>\n      <td>04:25 10 Jun</td>\n      <td>19h</td>\n      <td>2 stops</td>\n      <td>No info</td>\n      <td>13882.0</td>\n      <td>9</td>\n      <td>06</td>\n      <td>2019</td>\n    </tr>\n    <tr>\n      <th>3</th>\n      <td>IndiGo</td>\n      <td>12/05/2019</td>\n      <td>Kolkata</td>\n      <td>Banglore</td>\n      <td>CCU \u2192 NAG \u2192 BLR</td>\n      <td>18:05</td>\n      <td>23:30</td>\n      <td>5h 25m</td>\n      <td>1 stop</td>\n      <td>No info</td>\n      <td>6218.0</td>\n      <td>12</td>\n      <td>05</td>\n      <td>2019</td>\n    </tr>\n    <tr>\n      <th>4</th>\n      <td>IndiGo</td>\n      <td>01/03/2019</td>\n      <td>Banglore</td>\n      <td>New Delhi</td>\n      <td>BLR \u2192 NAG \u2192 DEL</td>\n      <td>16:50</td>\n      <td>21:35</td>\n      <td>4h 45m</td>\n      <td>1 stop</td>\n      <td>No info</td>\n      <td>13302.0</td>\n      <td>01</td>\n      <td>03</td>\n      <td>2019</td>\n    </tr>\n  </tbody>\n</table>\n</div>",
                        "text/plain": "       Airline Date_of_Journey    Source Destination                  Route  \\\n0       IndiGo      24/03/2019  Banglore   New Delhi              BLR \u2192 DEL   \n1    Air India       1/05/2019   Kolkata    Banglore  CCU \u2192 IXR \u2192 BBI \u2192 BLR   \n2  Jet Airways       9/06/2019     Delhi      Cochin  DEL \u2192 LKO \u2192 BOM \u2192 COK   \n3       IndiGo      12/05/2019   Kolkata    Banglore        CCU \u2192 NAG \u2192 BLR   \n4       IndiGo      01/03/2019  Banglore   New Delhi        BLR \u2192 NAG \u2192 DEL   \n\n  Dep_Time  Arrival_Time Duration Total_Stops Additional_Info    Price Date  \\\n0    22:20  01:10 22 Mar   2h 50m    non-stop         No info   3897.0   24   \n1    05:50         13:15   7h 25m     2 stops         No info   7662.0    1   \n2    09:25  04:25 10 Jun      19h     2 stops         No info  13882.0    9   \n3    18:05         23:30   5h 25m      1 stop         No info   6218.0   12   \n4    16:50         21:35   4h 45m      1 stop         No info  13302.0   01   \n\n  Month  Year  \n0    03  2019  \n1    05  2019  \n2    06  2019  \n3    05  2019  \n4    03  2019  "
                    },
                    "execution_count": 7,
                    "metadata": {},
                    "output_type": "execute_result"
                }
            ],
            "source": "# Splitting the 'Date_of_Journey' feature to access its individual components\ndf['Date'] = df['Date_of_Journey'].str.split('/').str[0]\ndf['Month'] = df['Date_of_Journey'].str.split('/').str[1]\ndf['Year'] = df['Date_of_Journey'].str.split('/').str[2]\ndf.head()"
        },
        {
            "cell_type": "code",
            "execution_count": 8,
            "metadata": {},
            "outputs": [
                {
                    "data": {
                        "text/html": "<div>\n<style scoped>\n    .dataframe tbody tr th:only-of-type {\n        vertical-align: middle;\n    }\n\n    .dataframe tbody tr th {\n        vertical-align: top;\n    }\n\n    .dataframe thead th {\n        text-align: right;\n    }\n</style>\n<table border=\"1\" class=\"dataframe\">\n  <thead>\n    <tr style=\"text-align: right;\">\n      <th></th>\n      <th>Airline</th>\n      <th>Source</th>\n      <th>Destination</th>\n      <th>Route</th>\n      <th>Dep_Time</th>\n      <th>Arrival_Time</th>\n      <th>Duration</th>\n      <th>Total_Stops</th>\n      <th>Additional_Info</th>\n      <th>Price</th>\n      <th>Date</th>\n      <th>Month</th>\n      <th>Year</th>\n    </tr>\n  </thead>\n  <tbody>\n    <tr>\n      <th>0</th>\n      <td>IndiGo</td>\n      <td>Banglore</td>\n      <td>New Delhi</td>\n      <td>BLR \u2192 DEL</td>\n      <td>22:20</td>\n      <td>01:10 22 Mar</td>\n      <td>2h 50m</td>\n      <td>non-stop</td>\n      <td>No info</td>\n      <td>3897.0</td>\n      <td>24</td>\n      <td>03</td>\n      <td>2019</td>\n    </tr>\n    <tr>\n      <th>1</th>\n      <td>Air India</td>\n      <td>Kolkata</td>\n      <td>Banglore</td>\n      <td>CCU \u2192 IXR \u2192 BBI \u2192 BLR</td>\n      <td>05:50</td>\n      <td>13:15</td>\n      <td>7h 25m</td>\n      <td>2 stops</td>\n      <td>No info</td>\n      <td>7662.0</td>\n      <td>1</td>\n      <td>05</td>\n      <td>2019</td>\n    </tr>\n    <tr>\n      <th>2</th>\n      <td>Jet Airways</td>\n      <td>Delhi</td>\n      <td>Cochin</td>\n      <td>DEL \u2192 LKO \u2192 BOM \u2192 COK</td>\n      <td>09:25</td>\n      <td>04:25 10 Jun</td>\n      <td>19h</td>\n      <td>2 stops</td>\n      <td>No info</td>\n      <td>13882.0</td>\n      <td>9</td>\n      <td>06</td>\n      <td>2019</td>\n    </tr>\n    <tr>\n      <th>3</th>\n      <td>IndiGo</td>\n      <td>Kolkata</td>\n      <td>Banglore</td>\n      <td>CCU \u2192 NAG \u2192 BLR</td>\n      <td>18:05</td>\n      <td>23:30</td>\n      <td>5h 25m</td>\n      <td>1 stop</td>\n      <td>No info</td>\n      <td>6218.0</td>\n      <td>12</td>\n      <td>05</td>\n      <td>2019</td>\n    </tr>\n    <tr>\n      <th>4</th>\n      <td>IndiGo</td>\n      <td>Banglore</td>\n      <td>New Delhi</td>\n      <td>BLR \u2192 NAG \u2192 DEL</td>\n      <td>16:50</td>\n      <td>21:35</td>\n      <td>4h 45m</td>\n      <td>1 stop</td>\n      <td>No info</td>\n      <td>13302.0</td>\n      <td>01</td>\n      <td>03</td>\n      <td>2019</td>\n    </tr>\n  </tbody>\n</table>\n</div>",
                        "text/plain": "       Airline    Source Destination                  Route Dep_Time  \\\n0       IndiGo  Banglore   New Delhi              BLR \u2192 DEL    22:20   \n1    Air India   Kolkata    Banglore  CCU \u2192 IXR \u2192 BBI \u2192 BLR    05:50   \n2  Jet Airways     Delhi      Cochin  DEL \u2192 LKO \u2192 BOM \u2192 COK    09:25   \n3       IndiGo   Kolkata    Banglore        CCU \u2192 NAG \u2192 BLR    18:05   \n4       IndiGo  Banglore   New Delhi        BLR \u2192 NAG \u2192 DEL    16:50   \n\n   Arrival_Time Duration Total_Stops Additional_Info    Price Date Month  Year  \n0  01:10 22 Mar   2h 50m    non-stop         No info   3897.0   24    03  2019  \n1         13:15   7h 25m     2 stops         No info   7662.0    1    05  2019  \n2  04:25 10 Jun      19h     2 stops         No info  13882.0    9    06  2019  \n3         23:30   5h 25m      1 stop         No info   6218.0   12    05  2019  \n4         21:35   4h 45m      1 stop         No info  13302.0   01    03  2019  "
                    },
                    "execution_count": 8,
                    "metadata": {},
                    "output_type": "execute_result"
                }
            ],
            "source": "# Dropping the 'Date_of_Journey' column as we have its individual information\ndf.drop(['Date_of_Journey'], axis= 1, inplace= True)\ndf.head()"
        },
        {
            "cell_type": "code",
            "execution_count": 9,
            "metadata": {},
            "outputs": [
                {
                    "data": {
                        "text/plain": "Airline             object\nSource              object\nDestination         object\nRoute               object\nDep_Time            object\nArrival_Time        object\nDuration            object\nTotal_Stops         object\nAdditional_Info     object\nPrice              float64\nDate                object\nMonth               object\nYear                object\ndtype: object"
                    },
                    "execution_count": 9,
                    "metadata": {},
                    "output_type": "execute_result"
                }
            ],
            "source": "# Observing the data types of newly formed features\ndf.dtypes"
        },
        {
            "cell_type": "markdown",
            "metadata": {},
            "source": "We can see here that _Date_, _Month_ and _Year_ is of type __object__. We have to convert it into __int64__ type."
        },
        {
            "cell_type": "code",
            "execution_count": 10,
            "metadata": {},
            "outputs": [
                {
                    "data": {
                        "text/plain": "Airline             object\nSource              object\nDestination         object\nRoute               object\nDep_Time            object\nArrival_Time        object\nDuration            object\nTotal_Stops         object\nAdditional_Info     object\nPrice              float64\nDate                 int64\nMonth                int64\nYear                 int64\ndtype: object"
                    },
                    "execution_count": 10,
                    "metadata": {},
                    "output_type": "execute_result"
                }
            ],
            "source": "# Converting object into int\ndf['Date'] = df['Date'].astype(int)\ndf['Month'] = df['Month'].astype(int)\ndf['Year'] = df['Year'].astype(int)\n\n# After converting data types\ndf.dtypes"
        },
        {
            "cell_type": "code",
            "execution_count": 11,
            "metadata": {},
            "outputs": [
                {
                    "data": {
                        "text/html": "<div>\n<style scoped>\n    .dataframe tbody tr th:only-of-type {\n        vertical-align: middle;\n    }\n\n    .dataframe tbody tr th {\n        vertical-align: top;\n    }\n\n    .dataframe thead th {\n        text-align: right;\n    }\n</style>\n<table border=\"1\" class=\"dataframe\">\n  <thead>\n    <tr style=\"text-align: right;\">\n      <th></th>\n      <th>Airline</th>\n      <th>Source</th>\n      <th>Destination</th>\n      <th>Route</th>\n      <th>Dep_Time</th>\n      <th>Arrival_Time</th>\n      <th>Duration</th>\n      <th>Total_Stops</th>\n      <th>Additional_Info</th>\n      <th>Price</th>\n      <th>Date</th>\n      <th>Month</th>\n      <th>Year</th>\n    </tr>\n  </thead>\n  <tbody>\n    <tr>\n      <th>0</th>\n      <td>IndiGo</td>\n      <td>Banglore</td>\n      <td>New Delhi</td>\n      <td>BLR \u2192 DEL</td>\n      <td>22:20</td>\n      <td>01:10</td>\n      <td>2h 50m</td>\n      <td>non-stop</td>\n      <td>No info</td>\n      <td>3897.0</td>\n      <td>24</td>\n      <td>3</td>\n      <td>2019</td>\n    </tr>\n    <tr>\n      <th>1</th>\n      <td>Air India</td>\n      <td>Kolkata</td>\n      <td>Banglore</td>\n      <td>CCU \u2192 IXR \u2192 BBI \u2192 BLR</td>\n      <td>05:50</td>\n      <td>13:15</td>\n      <td>7h 25m</td>\n      <td>2 stops</td>\n      <td>No info</td>\n      <td>7662.0</td>\n      <td>1</td>\n      <td>5</td>\n      <td>2019</td>\n    </tr>\n    <tr>\n      <th>2</th>\n      <td>Jet Airways</td>\n      <td>Delhi</td>\n      <td>Cochin</td>\n      <td>DEL \u2192 LKO \u2192 BOM \u2192 COK</td>\n      <td>09:25</td>\n      <td>04:25</td>\n      <td>19h</td>\n      <td>2 stops</td>\n      <td>No info</td>\n      <td>13882.0</td>\n      <td>9</td>\n      <td>6</td>\n      <td>2019</td>\n    </tr>\n    <tr>\n      <th>3</th>\n      <td>IndiGo</td>\n      <td>Kolkata</td>\n      <td>Banglore</td>\n      <td>CCU \u2192 NAG \u2192 BLR</td>\n      <td>18:05</td>\n      <td>23:30</td>\n      <td>5h 25m</td>\n      <td>1 stop</td>\n      <td>No info</td>\n      <td>6218.0</td>\n      <td>12</td>\n      <td>5</td>\n      <td>2019</td>\n    </tr>\n    <tr>\n      <th>4</th>\n      <td>IndiGo</td>\n      <td>Banglore</td>\n      <td>New Delhi</td>\n      <td>BLR \u2192 NAG \u2192 DEL</td>\n      <td>16:50</td>\n      <td>21:35</td>\n      <td>4h 45m</td>\n      <td>1 stop</td>\n      <td>No info</td>\n      <td>13302.0</td>\n      <td>1</td>\n      <td>3</td>\n      <td>2019</td>\n    </tr>\n  </tbody>\n</table>\n</div>",
                        "text/plain": "       Airline    Source Destination                  Route Dep_Time  \\\n0       IndiGo  Banglore   New Delhi              BLR \u2192 DEL    22:20   \n1    Air India   Kolkata    Banglore  CCU \u2192 IXR \u2192 BBI \u2192 BLR    05:50   \n2  Jet Airways     Delhi      Cochin  DEL \u2192 LKO \u2192 BOM \u2192 COK    09:25   \n3       IndiGo   Kolkata    Banglore        CCU \u2192 NAG \u2192 BLR    18:05   \n4       IndiGo  Banglore   New Delhi        BLR \u2192 NAG \u2192 DEL    16:50   \n\n  Arrival_Time Duration Total_Stops Additional_Info    Price  Date  Month  \\\n0        01:10   2h 50m    non-stop         No info   3897.0    24      3   \n1        13:15   7h 25m     2 stops         No info   7662.0     1      5   \n2        04:25      19h     2 stops         No info  13882.0     9      6   \n3        23:30   5h 25m      1 stop         No info   6218.0    12      5   \n4        21:35   4h 45m      1 stop         No info  13302.0     1      3   \n\n   Year  \n0  2019  \n1  2019  \n2  2019  \n3  2019  \n4  2019  "
                    },
                    "execution_count": 11,
                    "metadata": {},
                    "output_type": "execute_result"
                }
            ],
            "source": "df['Arrival_Time'] = df['Arrival_Time'].str.split(' ').str[0]\ndf.head()"
        },
        {
            "cell_type": "code",
            "execution_count": 12,
            "metadata": {},
            "outputs": [
                {
                    "data": {
                        "text/plain": "Airline               0\nSource                0\nDestination           0\nRoute                 1\nDep_Time              0\nArrival_Time          0\nDuration              0\nTotal_Stops           1\nAdditional_Info       0\nPrice              2671\nDate                  0\nMonth                 0\nYear                  0\ndtype: int64"
                    },
                    "execution_count": 12,
                    "metadata": {},
                    "output_type": "execute_result"
                }
            ],
            "source": "# Checking null values\ndf.isnull().sum()"
        },
        {
            "cell_type": "code",
            "execution_count": 13,
            "metadata": {},
            "outputs": [
                {
                    "data": {
                        "text/html": "<div>\n<style scoped>\n    .dataframe tbody tr th:only-of-type {\n        vertical-align: middle;\n    }\n\n    .dataframe tbody tr th {\n        vertical-align: top;\n    }\n\n    .dataframe thead th {\n        text-align: right;\n    }\n</style>\n<table border=\"1\" class=\"dataframe\">\n  <thead>\n    <tr style=\"text-align: right;\">\n      <th></th>\n      <th>Airline</th>\n      <th>Source</th>\n      <th>Destination</th>\n      <th>Route</th>\n      <th>Dep_Time</th>\n      <th>Arrival_Time</th>\n      <th>Duration</th>\n      <th>Total_Stops</th>\n      <th>Additional_Info</th>\n      <th>Price</th>\n      <th>Date</th>\n      <th>Month</th>\n      <th>Year</th>\n    </tr>\n  </thead>\n  <tbody>\n    <tr>\n      <th>9039</th>\n      <td>Air India</td>\n      <td>Delhi</td>\n      <td>Cochin</td>\n      <td>NaN</td>\n      <td>09:45</td>\n      <td>09:25</td>\n      <td>23h 40m</td>\n      <td>NaN</td>\n      <td>No info</td>\n      <td>7480.0</td>\n      <td>6</td>\n      <td>5</td>\n      <td>2019</td>\n    </tr>\n  </tbody>\n</table>\n</div>",
                        "text/plain": "        Airline Source Destination Route Dep_Time Arrival_Time Duration  \\\n9039  Air India  Delhi      Cochin   NaN    09:45        09:25  23h 40m   \n\n     Total_Stops Additional_Info   Price  Date  Month  Year  \n9039         NaN         No info  7480.0     6      5  2019  "
                    },
                    "execution_count": 13,
                    "metadata": {},
                    "output_type": "execute_result"
                }
            ],
            "source": "df[df['Total_Stops'].isnull()]"
        },
        {
            "cell_type": "code",
            "execution_count": 14,
            "metadata": {},
            "outputs": [],
            "source": "df['Total_Stops'] = df['Total_Stops'].fillna('1 stop')"
        },
        {
            "cell_type": "code",
            "execution_count": 15,
            "metadata": {},
            "outputs": [
                {
                    "data": {
                        "text/html": "<div>\n<style scoped>\n    .dataframe tbody tr th:only-of-type {\n        vertical-align: middle;\n    }\n\n    .dataframe tbody tr th {\n        vertical-align: top;\n    }\n\n    .dataframe thead th {\n        text-align: right;\n    }\n</style>\n<table border=\"1\" class=\"dataframe\">\n  <thead>\n    <tr style=\"text-align: right;\">\n      <th></th>\n      <th>Airline</th>\n      <th>Source</th>\n      <th>Destination</th>\n      <th>Route</th>\n      <th>Dep_Time</th>\n      <th>Arrival_Time</th>\n      <th>Duration</th>\n      <th>Total_Stops</th>\n      <th>Additional_Info</th>\n      <th>Price</th>\n      <th>Date</th>\n      <th>Month</th>\n      <th>Year</th>\n    </tr>\n  </thead>\n  <tbody>\n    <tr>\n      <th>0</th>\n      <td>IndiGo</td>\n      <td>Banglore</td>\n      <td>New Delhi</td>\n      <td>BLR \u2192 DEL</td>\n      <td>22:20</td>\n      <td>01:10</td>\n      <td>2h 50m</td>\n      <td>0 stop</td>\n      <td>No info</td>\n      <td>3897.0</td>\n      <td>24</td>\n      <td>3</td>\n      <td>2019</td>\n    </tr>\n    <tr>\n      <th>1</th>\n      <td>Air India</td>\n      <td>Kolkata</td>\n      <td>Banglore</td>\n      <td>CCU \u2192 IXR \u2192 BBI \u2192 BLR</td>\n      <td>05:50</td>\n      <td>13:15</td>\n      <td>7h 25m</td>\n      <td>2 stops</td>\n      <td>No info</td>\n      <td>7662.0</td>\n      <td>1</td>\n      <td>5</td>\n      <td>2019</td>\n    </tr>\n    <tr>\n      <th>2</th>\n      <td>Jet Airways</td>\n      <td>Delhi</td>\n      <td>Cochin</td>\n      <td>DEL \u2192 LKO \u2192 BOM \u2192 COK</td>\n      <td>09:25</td>\n      <td>04:25</td>\n      <td>19h</td>\n      <td>2 stops</td>\n      <td>No info</td>\n      <td>13882.0</td>\n      <td>9</td>\n      <td>6</td>\n      <td>2019</td>\n    </tr>\n    <tr>\n      <th>3</th>\n      <td>IndiGo</td>\n      <td>Kolkata</td>\n      <td>Banglore</td>\n      <td>CCU \u2192 NAG \u2192 BLR</td>\n      <td>18:05</td>\n      <td>23:30</td>\n      <td>5h 25m</td>\n      <td>1 stop</td>\n      <td>No info</td>\n      <td>6218.0</td>\n      <td>12</td>\n      <td>5</td>\n      <td>2019</td>\n    </tr>\n    <tr>\n      <th>4</th>\n      <td>IndiGo</td>\n      <td>Banglore</td>\n      <td>New Delhi</td>\n      <td>BLR \u2192 NAG \u2192 DEL</td>\n      <td>16:50</td>\n      <td>21:35</td>\n      <td>4h 45m</td>\n      <td>1 stop</td>\n      <td>No info</td>\n      <td>13302.0</td>\n      <td>1</td>\n      <td>3</td>\n      <td>2019</td>\n    </tr>\n  </tbody>\n</table>\n</div>",
                        "text/plain": "       Airline    Source Destination                  Route Dep_Time  \\\n0       IndiGo  Banglore   New Delhi              BLR \u2192 DEL    22:20   \n1    Air India   Kolkata    Banglore  CCU \u2192 IXR \u2192 BBI \u2192 BLR    05:50   \n2  Jet Airways     Delhi      Cochin  DEL \u2192 LKO \u2192 BOM \u2192 COK    09:25   \n3       IndiGo   Kolkata    Banglore        CCU \u2192 NAG \u2192 BLR    18:05   \n4       IndiGo  Banglore   New Delhi        BLR \u2192 NAG \u2192 DEL    16:50   \n\n  Arrival_Time Duration Total_Stops Additional_Info    Price  Date  Month  \\\n0        01:10   2h 50m      0 stop         No info   3897.0    24      3   \n1        13:15   7h 25m     2 stops         No info   7662.0     1      5   \n2        04:25      19h     2 stops         No info  13882.0     9      6   \n3        23:30   5h 25m      1 stop         No info   6218.0    12      5   \n4        21:35   4h 45m      1 stop         No info  13302.0     1      3   \n\n   Year  \n0  2019  \n1  2019  \n2  2019  \n3  2019  \n4  2019  "
                    },
                    "execution_count": 15,
                    "metadata": {},
                    "output_type": "execute_result"
                }
            ],
            "source": "df['Total_Stops'] = df['Total_Stops'].replace('non-stop', '0 stop')\ndf.head()"
        },
        {
            "cell_type": "code",
            "execution_count": 16,
            "metadata": {},
            "outputs": [
                {
                    "data": {
                        "text/html": "<div>\n<style scoped>\n    .dataframe tbody tr th:only-of-type {\n        vertical-align: middle;\n    }\n\n    .dataframe tbody tr th {\n        vertical-align: top;\n    }\n\n    .dataframe thead th {\n        text-align: right;\n    }\n</style>\n<table border=\"1\" class=\"dataframe\">\n  <thead>\n    <tr style=\"text-align: right;\">\n      <th></th>\n      <th>Airline</th>\n      <th>Source</th>\n      <th>Destination</th>\n      <th>Route</th>\n      <th>Dep_Time</th>\n      <th>Arrival_Time</th>\n      <th>Duration</th>\n      <th>Total_Stops</th>\n      <th>Additional_Info</th>\n      <th>Price</th>\n      <th>Date</th>\n      <th>Month</th>\n      <th>Year</th>\n    </tr>\n  </thead>\n  <tbody>\n    <tr>\n      <th>0</th>\n      <td>IndiGo</td>\n      <td>Banglore</td>\n      <td>New Delhi</td>\n      <td>BLR \u2192 DEL</td>\n      <td>22:20</td>\n      <td>01:10</td>\n      <td>2h 50m</td>\n      <td>0</td>\n      <td>No info</td>\n      <td>3897.0</td>\n      <td>24</td>\n      <td>3</td>\n      <td>2019</td>\n    </tr>\n    <tr>\n      <th>1</th>\n      <td>Air India</td>\n      <td>Kolkata</td>\n      <td>Banglore</td>\n      <td>CCU \u2192 IXR \u2192 BBI \u2192 BLR</td>\n      <td>05:50</td>\n      <td>13:15</td>\n      <td>7h 25m</td>\n      <td>2</td>\n      <td>No info</td>\n      <td>7662.0</td>\n      <td>1</td>\n      <td>5</td>\n      <td>2019</td>\n    </tr>\n    <tr>\n      <th>2</th>\n      <td>Jet Airways</td>\n      <td>Delhi</td>\n      <td>Cochin</td>\n      <td>DEL \u2192 LKO \u2192 BOM \u2192 COK</td>\n      <td>09:25</td>\n      <td>04:25</td>\n      <td>19h</td>\n      <td>2</td>\n      <td>No info</td>\n      <td>13882.0</td>\n      <td>9</td>\n      <td>6</td>\n      <td>2019</td>\n    </tr>\n    <tr>\n      <th>3</th>\n      <td>IndiGo</td>\n      <td>Kolkata</td>\n      <td>Banglore</td>\n      <td>CCU \u2192 NAG \u2192 BLR</td>\n      <td>18:05</td>\n      <td>23:30</td>\n      <td>5h 25m</td>\n      <td>1</td>\n      <td>No info</td>\n      <td>6218.0</td>\n      <td>12</td>\n      <td>5</td>\n      <td>2019</td>\n    </tr>\n    <tr>\n      <th>4</th>\n      <td>IndiGo</td>\n      <td>Banglore</td>\n      <td>New Delhi</td>\n      <td>BLR \u2192 NAG \u2192 DEL</td>\n      <td>16:50</td>\n      <td>21:35</td>\n      <td>4h 45m</td>\n      <td>1</td>\n      <td>No info</td>\n      <td>13302.0</td>\n      <td>1</td>\n      <td>3</td>\n      <td>2019</td>\n    </tr>\n  </tbody>\n</table>\n</div>",
                        "text/plain": "       Airline    Source Destination                  Route Dep_Time  \\\n0       IndiGo  Banglore   New Delhi              BLR \u2192 DEL    22:20   \n1    Air India   Kolkata    Banglore  CCU \u2192 IXR \u2192 BBI \u2192 BLR    05:50   \n2  Jet Airways     Delhi      Cochin  DEL \u2192 LKO \u2192 BOM \u2192 COK    09:25   \n3       IndiGo   Kolkata    Banglore        CCU \u2192 NAG \u2192 BLR    18:05   \n4       IndiGo  Banglore   New Delhi        BLR \u2192 NAG \u2192 DEL    16:50   \n\n  Arrival_Time Duration Total_Stops Additional_Info    Price  Date  Month  \\\n0        01:10   2h 50m           0         No info   3897.0    24      3   \n1        13:15   7h 25m           2         No info   7662.0     1      5   \n2        04:25      19h           2         No info  13882.0     9      6   \n3        23:30   5h 25m           1         No info   6218.0    12      5   \n4        21:35   4h 45m           1         No info  13302.0     1      3   \n\n   Year  \n0  2019  \n1  2019  \n2  2019  \n3  2019  \n4  2019  "
                    },
                    "execution_count": 16,
                    "metadata": {},
                    "output_type": "execute_result"
                }
            ],
            "source": "df['Total_Stops'] = df['Total_Stops'].str.split(' ').str[0] \ndf.head()"
        },
        {
            "cell_type": "code",
            "execution_count": 17,
            "metadata": {},
            "outputs": [
                {
                    "data": {
                        "text/plain": "Airline             object\nSource              object\nDestination         object\nRoute               object\nDep_Time            object\nArrival_Time        object\nDuration            object\nTotal_Stops         object\nAdditional_Info     object\nPrice              float64\nDate                 int64\nMonth                int64\nYear                 int64\ndtype: object"
                    },
                    "execution_count": 17,
                    "metadata": {},
                    "output_type": "execute_result"
                }
            ],
            "source": "df.dtypes"
        },
        {
            "cell_type": "code",
            "execution_count": 18,
            "metadata": {},
            "outputs": [
                {
                    "data": {
                        "text/plain": "Airline             object\nSource              object\nDestination         object\nRoute               object\nDep_Time            object\nArrival_Time        object\nDuration            object\nTotal_Stops          int64\nAdditional_Info     object\nPrice              float64\nDate                 int64\nMonth                int64\nYear                 int64\ndtype: object"
                    },
                    "execution_count": 18,
                    "metadata": {},
                    "output_type": "execute_result"
                }
            ],
            "source": "# Converting data type of 'Total_Stops'\ndf['Total_Stops'] = df['Total_Stops'].astype(int)\ndf.dtypes"
        },
        {
            "cell_type": "code",
            "execution_count": 19,
            "metadata": {},
            "outputs": [
                {
                    "data": {
                        "text/html": "<div>\n<style scoped>\n    .dataframe tbody tr th:only-of-type {\n        vertical-align: middle;\n    }\n\n    .dataframe tbody tr th {\n        vertical-align: top;\n    }\n\n    .dataframe thead th {\n        text-align: right;\n    }\n</style>\n<table border=\"1\" class=\"dataframe\">\n  <thead>\n    <tr style=\"text-align: right;\">\n      <th></th>\n      <th>Airline</th>\n      <th>Source</th>\n      <th>Destination</th>\n      <th>Route</th>\n      <th>Dep_Time</th>\n      <th>Arrival_Time</th>\n      <th>Duration</th>\n      <th>Total_Stops</th>\n      <th>Additional_Info</th>\n      <th>Price</th>\n      <th>Date</th>\n      <th>Month</th>\n      <th>Year</th>\n      <th>Arrival_Hour</th>\n      <th>Arrival_Minute</th>\n    </tr>\n  </thead>\n  <tbody>\n    <tr>\n      <th>0</th>\n      <td>IndiGo</td>\n      <td>Banglore</td>\n      <td>New Delhi</td>\n      <td>BLR \u2192 DEL</td>\n      <td>22:20</td>\n      <td>01:10</td>\n      <td>2h 50m</td>\n      <td>0</td>\n      <td>No info</td>\n      <td>3897.0</td>\n      <td>24</td>\n      <td>3</td>\n      <td>2019</td>\n      <td>01</td>\n      <td>10</td>\n    </tr>\n    <tr>\n      <th>1</th>\n      <td>Air India</td>\n      <td>Kolkata</td>\n      <td>Banglore</td>\n      <td>CCU \u2192 IXR \u2192 BBI \u2192 BLR</td>\n      <td>05:50</td>\n      <td>13:15</td>\n      <td>7h 25m</td>\n      <td>2</td>\n      <td>No info</td>\n      <td>7662.0</td>\n      <td>1</td>\n      <td>5</td>\n      <td>2019</td>\n      <td>13</td>\n      <td>15</td>\n    </tr>\n    <tr>\n      <th>2</th>\n      <td>Jet Airways</td>\n      <td>Delhi</td>\n      <td>Cochin</td>\n      <td>DEL \u2192 LKO \u2192 BOM \u2192 COK</td>\n      <td>09:25</td>\n      <td>04:25</td>\n      <td>19h</td>\n      <td>2</td>\n      <td>No info</td>\n      <td>13882.0</td>\n      <td>9</td>\n      <td>6</td>\n      <td>2019</td>\n      <td>04</td>\n      <td>25</td>\n    </tr>\n    <tr>\n      <th>3</th>\n      <td>IndiGo</td>\n      <td>Kolkata</td>\n      <td>Banglore</td>\n      <td>CCU \u2192 NAG \u2192 BLR</td>\n      <td>18:05</td>\n      <td>23:30</td>\n      <td>5h 25m</td>\n      <td>1</td>\n      <td>No info</td>\n      <td>6218.0</td>\n      <td>12</td>\n      <td>5</td>\n      <td>2019</td>\n      <td>23</td>\n      <td>30</td>\n    </tr>\n    <tr>\n      <th>4</th>\n      <td>IndiGo</td>\n      <td>Banglore</td>\n      <td>New Delhi</td>\n      <td>BLR \u2192 NAG \u2192 DEL</td>\n      <td>16:50</td>\n      <td>21:35</td>\n      <td>4h 45m</td>\n      <td>1</td>\n      <td>No info</td>\n      <td>13302.0</td>\n      <td>1</td>\n      <td>3</td>\n      <td>2019</td>\n      <td>21</td>\n      <td>35</td>\n    </tr>\n  </tbody>\n</table>\n</div>",
                        "text/plain": "       Airline    Source Destination                  Route Dep_Time  \\\n0       IndiGo  Banglore   New Delhi              BLR \u2192 DEL    22:20   \n1    Air India   Kolkata    Banglore  CCU \u2192 IXR \u2192 BBI \u2192 BLR    05:50   \n2  Jet Airways     Delhi      Cochin  DEL \u2192 LKO \u2192 BOM \u2192 COK    09:25   \n3       IndiGo   Kolkata    Banglore        CCU \u2192 NAG \u2192 BLR    18:05   \n4       IndiGo  Banglore   New Delhi        BLR \u2192 NAG \u2192 DEL    16:50   \n\n  Arrival_Time Duration  Total_Stops Additional_Info    Price  Date  Month  \\\n0        01:10   2h 50m            0         No info   3897.0    24      3   \n1        13:15   7h 25m            2         No info   7662.0     1      5   \n2        04:25      19h            2         No info  13882.0     9      6   \n3        23:30   5h 25m            1         No info   6218.0    12      5   \n4        21:35   4h 45m            1         No info  13302.0     1      3   \n\n   Year Arrival_Hour Arrival_Minute  \n0  2019           01             10  \n1  2019           13             15  \n2  2019           04             25  \n3  2019           23             30  \n4  2019           21             35  "
                    },
                    "execution_count": 19,
                    "metadata": {},
                    "output_type": "execute_result"
                }
            ],
            "source": "df['Arrival_Hour'] = df['Arrival_Time'].str.split(':').str[0]\ndf['Arrival_Minute'] = df['Arrival_Time'].str.split(':').str[1]\ndf.head()"
        },
        {
            "cell_type": "code",
            "execution_count": 20,
            "metadata": {},
            "outputs": [
                {
                    "data": {
                        "text/plain": "Airline             object\nSource              object\nDestination         object\nRoute               object\nDep_Time            object\nArrival_Time        object\nDuration            object\nTotal_Stops          int64\nAdditional_Info     object\nPrice              float64\nDate                 int64\nMonth                int64\nYear                 int64\nArrival_Hour        object\nArrival_Minute      object\ndtype: object"
                    },
                    "execution_count": 20,
                    "metadata": {},
                    "output_type": "execute_result"
                }
            ],
            "source": "df.dtypes"
        },
        {
            "cell_type": "code",
            "execution_count": 21,
            "metadata": {},
            "outputs": [],
            "source": "df['Arrival_Hour'] = df['Arrival_Hour'].astype(int)\ndf['Arrival_Minute'] = df['Arrival_Minute'].astype(int)\ndf.drop(['Arrival_Time'], axis= 1, inplace= True)"
        },
        {
            "cell_type": "code",
            "execution_count": 22,
            "metadata": {},
            "outputs": [
                {
                    "data": {
                        "text/html": "<div>\n<style scoped>\n    .dataframe tbody tr th:only-of-type {\n        vertical-align: middle;\n    }\n\n    .dataframe tbody tr th {\n        vertical-align: top;\n    }\n\n    .dataframe thead th {\n        text-align: right;\n    }\n</style>\n<table border=\"1\" class=\"dataframe\">\n  <thead>\n    <tr style=\"text-align: right;\">\n      <th></th>\n      <th>Airline</th>\n      <th>Source</th>\n      <th>Destination</th>\n      <th>Route</th>\n      <th>Dep_Time</th>\n      <th>Duration</th>\n      <th>Total_Stops</th>\n      <th>Additional_Info</th>\n      <th>Price</th>\n      <th>Date</th>\n      <th>Month</th>\n      <th>Year</th>\n      <th>Arrival_Hour</th>\n      <th>Arrival_Minute</th>\n    </tr>\n  </thead>\n  <tbody>\n    <tr>\n      <th>0</th>\n      <td>IndiGo</td>\n      <td>Banglore</td>\n      <td>New Delhi</td>\n      <td>BLR \u2192 DEL</td>\n      <td>22:20</td>\n      <td>2h 50m</td>\n      <td>0</td>\n      <td>No info</td>\n      <td>3897.0</td>\n      <td>24</td>\n      <td>3</td>\n      <td>2019</td>\n      <td>1</td>\n      <td>10</td>\n    </tr>\n    <tr>\n      <th>1</th>\n      <td>Air India</td>\n      <td>Kolkata</td>\n      <td>Banglore</td>\n      <td>CCU \u2192 IXR \u2192 BBI \u2192 BLR</td>\n      <td>05:50</td>\n      <td>7h 25m</td>\n      <td>2</td>\n      <td>No info</td>\n      <td>7662.0</td>\n      <td>1</td>\n      <td>5</td>\n      <td>2019</td>\n      <td>13</td>\n      <td>15</td>\n    </tr>\n    <tr>\n      <th>2</th>\n      <td>Jet Airways</td>\n      <td>Delhi</td>\n      <td>Cochin</td>\n      <td>DEL \u2192 LKO \u2192 BOM \u2192 COK</td>\n      <td>09:25</td>\n      <td>19h</td>\n      <td>2</td>\n      <td>No info</td>\n      <td>13882.0</td>\n      <td>9</td>\n      <td>6</td>\n      <td>2019</td>\n      <td>4</td>\n      <td>25</td>\n    </tr>\n    <tr>\n      <th>3</th>\n      <td>IndiGo</td>\n      <td>Kolkata</td>\n      <td>Banglore</td>\n      <td>CCU \u2192 NAG \u2192 BLR</td>\n      <td>18:05</td>\n      <td>5h 25m</td>\n      <td>1</td>\n      <td>No info</td>\n      <td>6218.0</td>\n      <td>12</td>\n      <td>5</td>\n      <td>2019</td>\n      <td>23</td>\n      <td>30</td>\n    </tr>\n    <tr>\n      <th>4</th>\n      <td>IndiGo</td>\n      <td>Banglore</td>\n      <td>New Delhi</td>\n      <td>BLR \u2192 NAG \u2192 DEL</td>\n      <td>16:50</td>\n      <td>4h 45m</td>\n      <td>1</td>\n      <td>No info</td>\n      <td>13302.0</td>\n      <td>1</td>\n      <td>3</td>\n      <td>2019</td>\n      <td>21</td>\n      <td>35</td>\n    </tr>\n  </tbody>\n</table>\n</div>",
                        "text/plain": "       Airline    Source Destination                  Route Dep_Time Duration  \\\n0       IndiGo  Banglore   New Delhi              BLR \u2192 DEL    22:20   2h 50m   \n1    Air India   Kolkata    Banglore  CCU \u2192 IXR \u2192 BBI \u2192 BLR    05:50   7h 25m   \n2  Jet Airways     Delhi      Cochin  DEL \u2192 LKO \u2192 BOM \u2192 COK    09:25      19h   \n3       IndiGo   Kolkata    Banglore        CCU \u2192 NAG \u2192 BLR    18:05   5h 25m   \n4       IndiGo  Banglore   New Delhi        BLR \u2192 NAG \u2192 DEL    16:50   4h 45m   \n\n   Total_Stops Additional_Info    Price  Date  Month  Year  Arrival_Hour  \\\n0            0         No info   3897.0    24      3  2019             1   \n1            2         No info   7662.0     1      5  2019            13   \n2            2         No info  13882.0     9      6  2019             4   \n3            1         No info   6218.0    12      5  2019            23   \n4            1         No info  13302.0     1      3  2019            21   \n\n   Arrival_Minute  \n0              10  \n1              15  \n2              25  \n3              30  \n4              35  "
                    },
                    "execution_count": 22,
                    "metadata": {},
                    "output_type": "execute_result"
                }
            ],
            "source": "df.head()"
        },
        {
            "cell_type": "code",
            "execution_count": 23,
            "metadata": {},
            "outputs": [
                {
                    "data": {
                        "text/plain": "Airline             object\nSource              object\nDestination         object\nRoute               object\nDep_Time            object\nDuration            object\nTotal_Stops          int64\nAdditional_Info     object\nPrice              float64\nDate                 int64\nMonth                int64\nYear                 int64\nArrival_Hour         int64\nArrival_Minute       int64\ndtype: object"
                    },
                    "execution_count": 23,
                    "metadata": {},
                    "output_type": "execute_result"
                }
            ],
            "source": "df.dtypes"
        },
        {
            "cell_type": "code",
            "execution_count": 24,
            "metadata": {},
            "outputs": [
                {
                    "data": {
                        "text/html": "<div>\n<style scoped>\n    .dataframe tbody tr th:only-of-type {\n        vertical-align: middle;\n    }\n\n    .dataframe tbody tr th {\n        vertical-align: top;\n    }\n\n    .dataframe thead th {\n        text-align: right;\n    }\n</style>\n<table border=\"1\" class=\"dataframe\">\n  <thead>\n    <tr style=\"text-align: right;\">\n      <th></th>\n      <th>Airline</th>\n      <th>Source</th>\n      <th>Destination</th>\n      <th>Route</th>\n      <th>Dep_Time</th>\n      <th>Duration</th>\n      <th>Total_Stops</th>\n      <th>Additional_Info</th>\n      <th>Price</th>\n      <th>Date</th>\n      <th>Month</th>\n      <th>Year</th>\n      <th>Arrival_Hour</th>\n      <th>Arrival_Minute</th>\n      <th>Departure_Hour</th>\n      <th>Departure_Minute</th>\n    </tr>\n  </thead>\n  <tbody>\n    <tr>\n      <th>0</th>\n      <td>IndiGo</td>\n      <td>Banglore</td>\n      <td>New Delhi</td>\n      <td>BLR \u2192 DEL</td>\n      <td>22:20</td>\n      <td>2h 50m</td>\n      <td>0</td>\n      <td>No info</td>\n      <td>3897.0</td>\n      <td>24</td>\n      <td>3</td>\n      <td>2019</td>\n      <td>1</td>\n      <td>10</td>\n      <td>22</td>\n      <td>20</td>\n    </tr>\n    <tr>\n      <th>1</th>\n      <td>Air India</td>\n      <td>Kolkata</td>\n      <td>Banglore</td>\n      <td>CCU \u2192 IXR \u2192 BBI \u2192 BLR</td>\n      <td>05:50</td>\n      <td>7h 25m</td>\n      <td>2</td>\n      <td>No info</td>\n      <td>7662.0</td>\n      <td>1</td>\n      <td>5</td>\n      <td>2019</td>\n      <td>13</td>\n      <td>15</td>\n      <td>05</td>\n      <td>50</td>\n    </tr>\n    <tr>\n      <th>2</th>\n      <td>Jet Airways</td>\n      <td>Delhi</td>\n      <td>Cochin</td>\n      <td>DEL \u2192 LKO \u2192 BOM \u2192 COK</td>\n      <td>09:25</td>\n      <td>19h</td>\n      <td>2</td>\n      <td>No info</td>\n      <td>13882.0</td>\n      <td>9</td>\n      <td>6</td>\n      <td>2019</td>\n      <td>4</td>\n      <td>25</td>\n      <td>09</td>\n      <td>25</td>\n    </tr>\n    <tr>\n      <th>3</th>\n      <td>IndiGo</td>\n      <td>Kolkata</td>\n      <td>Banglore</td>\n      <td>CCU \u2192 NAG \u2192 BLR</td>\n      <td>18:05</td>\n      <td>5h 25m</td>\n      <td>1</td>\n      <td>No info</td>\n      <td>6218.0</td>\n      <td>12</td>\n      <td>5</td>\n      <td>2019</td>\n      <td>23</td>\n      <td>30</td>\n      <td>18</td>\n      <td>05</td>\n    </tr>\n    <tr>\n      <th>4</th>\n      <td>IndiGo</td>\n      <td>Banglore</td>\n      <td>New Delhi</td>\n      <td>BLR \u2192 NAG \u2192 DEL</td>\n      <td>16:50</td>\n      <td>4h 45m</td>\n      <td>1</td>\n      <td>No info</td>\n      <td>13302.0</td>\n      <td>1</td>\n      <td>3</td>\n      <td>2019</td>\n      <td>21</td>\n      <td>35</td>\n      <td>16</td>\n      <td>50</td>\n    </tr>\n  </tbody>\n</table>\n</div>",
                        "text/plain": "       Airline    Source Destination                  Route Dep_Time Duration  \\\n0       IndiGo  Banglore   New Delhi              BLR \u2192 DEL    22:20   2h 50m   \n1    Air India   Kolkata    Banglore  CCU \u2192 IXR \u2192 BBI \u2192 BLR    05:50   7h 25m   \n2  Jet Airways     Delhi      Cochin  DEL \u2192 LKO \u2192 BOM \u2192 COK    09:25      19h   \n3       IndiGo   Kolkata    Banglore        CCU \u2192 NAG \u2192 BLR    18:05   5h 25m   \n4       IndiGo  Banglore   New Delhi        BLR \u2192 NAG \u2192 DEL    16:50   4h 45m   \n\n   Total_Stops Additional_Info    Price  Date  Month  Year  Arrival_Hour  \\\n0            0         No info   3897.0    24      3  2019             1   \n1            2         No info   7662.0     1      5  2019            13   \n2            2         No info  13882.0     9      6  2019             4   \n3            1         No info   6218.0    12      5  2019            23   \n4            1         No info  13302.0     1      3  2019            21   \n\n   Arrival_Minute Departure_Hour Departure_Minute  \n0              10             22               20  \n1              15             05               50  \n2              25             09               25  \n3              30             18               05  \n4              35             16               50  "
                    },
                    "execution_count": 24,
                    "metadata": {},
                    "output_type": "execute_result"
                }
            ],
            "source": "df['Departure_Hour'] = df['Dep_Time'].str.split(\":\").str[0]\ndf['Departure_Minute'] = df['Dep_Time'].str.split(\":\").str[1]\ndf.head()"
        },
        {
            "cell_type": "code",
            "execution_count": 25,
            "metadata": {},
            "outputs": [
                {
                    "data": {
                        "text/html": "<div>\n<style scoped>\n    .dataframe tbody tr th:only-of-type {\n        vertical-align: middle;\n    }\n\n    .dataframe tbody tr th {\n        vertical-align: top;\n    }\n\n    .dataframe thead th {\n        text-align: right;\n    }\n</style>\n<table border=\"1\" class=\"dataframe\">\n  <thead>\n    <tr style=\"text-align: right;\">\n      <th></th>\n      <th>Airline</th>\n      <th>Source</th>\n      <th>Destination</th>\n      <th>Route</th>\n      <th>Duration</th>\n      <th>Total_Stops</th>\n      <th>Additional_Info</th>\n      <th>Price</th>\n      <th>Date</th>\n      <th>Month</th>\n      <th>Year</th>\n      <th>Arrival_Hour</th>\n      <th>Arrival_Minute</th>\n      <th>Departure_Hour</th>\n      <th>Departure_Minute</th>\n    </tr>\n  </thead>\n  <tbody>\n    <tr>\n      <th>0</th>\n      <td>IndiGo</td>\n      <td>Banglore</td>\n      <td>New Delhi</td>\n      <td>BLR \u2192 DEL</td>\n      <td>2h 50m</td>\n      <td>0</td>\n      <td>No info</td>\n      <td>3897.0</td>\n      <td>24</td>\n      <td>3</td>\n      <td>2019</td>\n      <td>1</td>\n      <td>10</td>\n      <td>22</td>\n      <td>20</td>\n    </tr>\n    <tr>\n      <th>1</th>\n      <td>Air India</td>\n      <td>Kolkata</td>\n      <td>Banglore</td>\n      <td>CCU \u2192 IXR \u2192 BBI \u2192 BLR</td>\n      <td>7h 25m</td>\n      <td>2</td>\n      <td>No info</td>\n      <td>7662.0</td>\n      <td>1</td>\n      <td>5</td>\n      <td>2019</td>\n      <td>13</td>\n      <td>15</td>\n      <td>05</td>\n      <td>50</td>\n    </tr>\n    <tr>\n      <th>2</th>\n      <td>Jet Airways</td>\n      <td>Delhi</td>\n      <td>Cochin</td>\n      <td>DEL \u2192 LKO \u2192 BOM \u2192 COK</td>\n      <td>19h</td>\n      <td>2</td>\n      <td>No info</td>\n      <td>13882.0</td>\n      <td>9</td>\n      <td>6</td>\n      <td>2019</td>\n      <td>4</td>\n      <td>25</td>\n      <td>09</td>\n      <td>25</td>\n    </tr>\n    <tr>\n      <th>3</th>\n      <td>IndiGo</td>\n      <td>Kolkata</td>\n      <td>Banglore</td>\n      <td>CCU \u2192 NAG \u2192 BLR</td>\n      <td>5h 25m</td>\n      <td>1</td>\n      <td>No info</td>\n      <td>6218.0</td>\n      <td>12</td>\n      <td>5</td>\n      <td>2019</td>\n      <td>23</td>\n      <td>30</td>\n      <td>18</td>\n      <td>05</td>\n    </tr>\n    <tr>\n      <th>4</th>\n      <td>IndiGo</td>\n      <td>Banglore</td>\n      <td>New Delhi</td>\n      <td>BLR \u2192 NAG \u2192 DEL</td>\n      <td>4h 45m</td>\n      <td>1</td>\n      <td>No info</td>\n      <td>13302.0</td>\n      <td>1</td>\n      <td>3</td>\n      <td>2019</td>\n      <td>21</td>\n      <td>35</td>\n      <td>16</td>\n      <td>50</td>\n    </tr>\n  </tbody>\n</table>\n</div>",
                        "text/plain": "       Airline    Source Destination                  Route Duration  \\\n0       IndiGo  Banglore   New Delhi              BLR \u2192 DEL   2h 50m   \n1    Air India   Kolkata    Banglore  CCU \u2192 IXR \u2192 BBI \u2192 BLR   7h 25m   \n2  Jet Airways     Delhi      Cochin  DEL \u2192 LKO \u2192 BOM \u2192 COK      19h   \n3       IndiGo   Kolkata    Banglore        CCU \u2192 NAG \u2192 BLR   5h 25m   \n4       IndiGo  Banglore   New Delhi        BLR \u2192 NAG \u2192 DEL   4h 45m   \n\n   Total_Stops Additional_Info    Price  Date  Month  Year  Arrival_Hour  \\\n0            0         No info   3897.0    24      3  2019             1   \n1            2         No info   7662.0     1      5  2019            13   \n2            2         No info  13882.0     9      6  2019             4   \n3            1         No info   6218.0    12      5  2019            23   \n4            1         No info  13302.0     1      3  2019            21   \n\n   Arrival_Minute Departure_Hour Departure_Minute  \n0              10             22               20  \n1              15             05               50  \n2              25             09               25  \n3              30             18               05  \n4              35             16               50  "
                    },
                    "execution_count": 25,
                    "metadata": {},
                    "output_type": "execute_result"
                }
            ],
            "source": "# Dropping 'Dep_Time' column as we have its individual components of it\ndf.drop(['Dep_Time'], axis= 1, inplace= True)\ndf.head()"
        },
        {
            "cell_type": "code",
            "execution_count": 26,
            "metadata": {},
            "outputs": [
                {
                    "data": {
                        "text/plain": "Airline              object\nSource               object\nDestination          object\nRoute                object\nDuration             object\nTotal_Stops           int64\nAdditional_Info      object\nPrice               float64\nDate                  int64\nMonth                 int64\nYear                  int64\nArrival_Hour          int64\nArrival_Minute        int64\nDeparture_Hour       object\nDeparture_Minute     object\ndtype: object"
                    },
                    "execution_count": 26,
                    "metadata": {},
                    "output_type": "execute_result"
                }
            ],
            "source": "df.dtypes"
        },
        {
            "cell_type": "code",
            "execution_count": 27,
            "metadata": {},
            "outputs": [
                {
                    "data": {
                        "text/plain": "Airline              object\nSource               object\nDestination          object\nRoute                object\nDuration             object\nTotal_Stops           int64\nAdditional_Info      object\nPrice               float64\nDate                  int64\nMonth                 int64\nYear                  int64\nArrival_Hour          int64\nArrival_Minute        int64\nDeparture_Hour        int64\nDeparture_Minute      int64\ndtype: object"
                    },
                    "execution_count": 27,
                    "metadata": {},
                    "output_type": "execute_result"
                }
            ],
            "source": "df['Departure_Hour'] = df['Departure_Hour'].astype(int)\ndf['Departure_Minute'] = df['Departure_Minute'].astype(int)\ndf.dtypes"
        },
        {
            "cell_type": "code",
            "execution_count": 28,
            "metadata": {},
            "outputs": [],
            "source": "df['Route_1'] = df['Route'].str.split('\u2192 ').str[0]\ndf['Route_2'] = df['Route'].str.split('\u2192 ').str[1]\ndf['Route_3'] = df['Route'].str.split('\u2192 ').str[2]\ndf['Route_4'] = df['Route'].str.split('\u2192 ').str[3]\ndf['Route_5'] = df['Route'].str.split('\u2192 ').str[4]"
        },
        {
            "cell_type": "code",
            "execution_count": 29,
            "metadata": {},
            "outputs": [
                {
                    "data": {
                        "text/html": "<div>\n<style scoped>\n    .dataframe tbody tr th:only-of-type {\n        vertical-align: middle;\n    }\n\n    .dataframe tbody tr th {\n        vertical-align: top;\n    }\n\n    .dataframe thead th {\n        text-align: right;\n    }\n</style>\n<table border=\"1\" class=\"dataframe\">\n  <thead>\n    <tr style=\"text-align: right;\">\n      <th></th>\n      <th>Airline</th>\n      <th>Source</th>\n      <th>Destination</th>\n      <th>Route</th>\n      <th>Duration</th>\n      <th>Total_Stops</th>\n      <th>Additional_Info</th>\n      <th>Price</th>\n      <th>Date</th>\n      <th>Month</th>\n      <th>Year</th>\n      <th>Arrival_Hour</th>\n      <th>Arrival_Minute</th>\n      <th>Departure_Hour</th>\n      <th>Departure_Minute</th>\n      <th>Route_1</th>\n      <th>Route_2</th>\n      <th>Route_3</th>\n      <th>Route_4</th>\n      <th>Route_5</th>\n    </tr>\n  </thead>\n  <tbody>\n    <tr>\n      <th>0</th>\n      <td>IndiGo</td>\n      <td>Banglore</td>\n      <td>New Delhi</td>\n      <td>BLR \u2192 DEL</td>\n      <td>2h 50m</td>\n      <td>0</td>\n      <td>No info</td>\n      <td>3897.0</td>\n      <td>24</td>\n      <td>3</td>\n      <td>2019</td>\n      <td>1</td>\n      <td>10</td>\n      <td>22</td>\n      <td>20</td>\n      <td>BLR</td>\n      <td>DEL</td>\n      <td>NaN</td>\n      <td>NaN</td>\n      <td>NaN</td>\n    </tr>\n    <tr>\n      <th>1</th>\n      <td>Air India</td>\n      <td>Kolkata</td>\n      <td>Banglore</td>\n      <td>CCU \u2192 IXR \u2192 BBI \u2192 BLR</td>\n      <td>7h 25m</td>\n      <td>2</td>\n      <td>No info</td>\n      <td>7662.0</td>\n      <td>1</td>\n      <td>5</td>\n      <td>2019</td>\n      <td>13</td>\n      <td>15</td>\n      <td>5</td>\n      <td>50</td>\n      <td>CCU</td>\n      <td>IXR</td>\n      <td>BBI</td>\n      <td>BLR</td>\n      <td>NaN</td>\n    </tr>\n    <tr>\n      <th>2</th>\n      <td>Jet Airways</td>\n      <td>Delhi</td>\n      <td>Cochin</td>\n      <td>DEL \u2192 LKO \u2192 BOM \u2192 COK</td>\n      <td>19h</td>\n      <td>2</td>\n      <td>No info</td>\n      <td>13882.0</td>\n      <td>9</td>\n      <td>6</td>\n      <td>2019</td>\n      <td>4</td>\n      <td>25</td>\n      <td>9</td>\n      <td>25</td>\n      <td>DEL</td>\n      <td>LKO</td>\n      <td>BOM</td>\n      <td>COK</td>\n      <td>NaN</td>\n    </tr>\n    <tr>\n      <th>3</th>\n      <td>IndiGo</td>\n      <td>Kolkata</td>\n      <td>Banglore</td>\n      <td>CCU \u2192 NAG \u2192 BLR</td>\n      <td>5h 25m</td>\n      <td>1</td>\n      <td>No info</td>\n      <td>6218.0</td>\n      <td>12</td>\n      <td>5</td>\n      <td>2019</td>\n      <td>23</td>\n      <td>30</td>\n      <td>18</td>\n      <td>5</td>\n      <td>CCU</td>\n      <td>NAG</td>\n      <td>BLR</td>\n      <td>NaN</td>\n      <td>NaN</td>\n    </tr>\n    <tr>\n      <th>4</th>\n      <td>IndiGo</td>\n      <td>Banglore</td>\n      <td>New Delhi</td>\n      <td>BLR \u2192 NAG \u2192 DEL</td>\n      <td>4h 45m</td>\n      <td>1</td>\n      <td>No info</td>\n      <td>13302.0</td>\n      <td>1</td>\n      <td>3</td>\n      <td>2019</td>\n      <td>21</td>\n      <td>35</td>\n      <td>16</td>\n      <td>50</td>\n      <td>BLR</td>\n      <td>NAG</td>\n      <td>DEL</td>\n      <td>NaN</td>\n      <td>NaN</td>\n    </tr>\n  </tbody>\n</table>\n</div>",
                        "text/plain": "       Airline    Source Destination                  Route Duration  \\\n0       IndiGo  Banglore   New Delhi              BLR \u2192 DEL   2h 50m   \n1    Air India   Kolkata    Banglore  CCU \u2192 IXR \u2192 BBI \u2192 BLR   7h 25m   \n2  Jet Airways     Delhi      Cochin  DEL \u2192 LKO \u2192 BOM \u2192 COK      19h   \n3       IndiGo   Kolkata    Banglore        CCU \u2192 NAG \u2192 BLR   5h 25m   \n4       IndiGo  Banglore   New Delhi        BLR \u2192 NAG \u2192 DEL   4h 45m   \n\n   Total_Stops Additional_Info    Price  Date  Month  Year  Arrival_Hour  \\\n0            0         No info   3897.0    24      3  2019             1   \n1            2         No info   7662.0     1      5  2019            13   \n2            2         No info  13882.0     9      6  2019             4   \n3            1         No info   6218.0    12      5  2019            23   \n4            1         No info  13302.0     1      3  2019            21   \n\n   Arrival_Minute  Departure_Hour  Departure_Minute Route_1 Route_2 Route_3  \\\n0              10              22                20    BLR      DEL     NaN   \n1              15               5                50    CCU     IXR     BBI    \n2              25               9                25    DEL     LKO     BOM    \n3              30              18                 5    CCU     NAG      BLR   \n4              35              16                50    BLR     NAG      DEL   \n\n  Route_4 Route_5  \n0     NaN     NaN  \n1     BLR     NaN  \n2     COK     NaN  \n3     NaN     NaN  \n4     NaN     NaN  "
                    },
                    "execution_count": 29,
                    "metadata": {},
                    "output_type": "execute_result"
                }
            ],
            "source": "df.head()"
        },
        {
            "cell_type": "code",
            "execution_count": 30,
            "metadata": {},
            "outputs": [],
            "source": "# Replacing the NULL value of the 'Price' column\ndf['Price'].fillna(df['Price'].mean(), inplace= True)"
        },
        {
            "cell_type": "code",
            "execution_count": 31,
            "metadata": {},
            "outputs": [],
            "source": "df['Route_1'].fillna('None', inplace= True)\ndf['Route_2'].fillna('None', inplace= True)\ndf['Route_3'].fillna('None', inplace= True)\ndf['Route_4'].fillna('None', inplace= True)\ndf['Route_5'].fillna('None', inplace= True)"
        },
        {
            "cell_type": "code",
            "execution_count": 32,
            "metadata": {},
            "outputs": [
                {
                    "data": {
                        "text/html": "<div>\n<style scoped>\n    .dataframe tbody tr th:only-of-type {\n        vertical-align: middle;\n    }\n\n    .dataframe tbody tr th {\n        vertical-align: top;\n    }\n\n    .dataframe thead th {\n        text-align: right;\n    }\n</style>\n<table border=\"1\" class=\"dataframe\">\n  <thead>\n    <tr style=\"text-align: right;\">\n      <th></th>\n      <th>Airline</th>\n      <th>Source</th>\n      <th>Destination</th>\n      <th>Route</th>\n      <th>Duration</th>\n      <th>Total_Stops</th>\n      <th>Additional_Info</th>\n      <th>Price</th>\n      <th>Date</th>\n      <th>Month</th>\n      <th>Year</th>\n      <th>Arrival_Hour</th>\n      <th>Arrival_Minute</th>\n      <th>Departure_Hour</th>\n      <th>Departure_Minute</th>\n      <th>Route_1</th>\n      <th>Route_2</th>\n      <th>Route_3</th>\n      <th>Route_4</th>\n      <th>Route_5</th>\n    </tr>\n  </thead>\n  <tbody>\n    <tr>\n      <th>0</th>\n      <td>IndiGo</td>\n      <td>Banglore</td>\n      <td>New Delhi</td>\n      <td>BLR \u2192 DEL</td>\n      <td>2h 50m</td>\n      <td>0</td>\n      <td>No info</td>\n      <td>3897.0</td>\n      <td>24</td>\n      <td>3</td>\n      <td>2019</td>\n      <td>1</td>\n      <td>10</td>\n      <td>22</td>\n      <td>20</td>\n      <td>BLR</td>\n      <td>DEL</td>\n      <td>None</td>\n      <td>None</td>\n      <td>None</td>\n    </tr>\n    <tr>\n      <th>1</th>\n      <td>Air India</td>\n      <td>Kolkata</td>\n      <td>Banglore</td>\n      <td>CCU \u2192 IXR \u2192 BBI \u2192 BLR</td>\n      <td>7h 25m</td>\n      <td>2</td>\n      <td>No info</td>\n      <td>7662.0</td>\n      <td>1</td>\n      <td>5</td>\n      <td>2019</td>\n      <td>13</td>\n      <td>15</td>\n      <td>5</td>\n      <td>50</td>\n      <td>CCU</td>\n      <td>IXR</td>\n      <td>BBI</td>\n      <td>BLR</td>\n      <td>None</td>\n    </tr>\n    <tr>\n      <th>2</th>\n      <td>Jet Airways</td>\n      <td>Delhi</td>\n      <td>Cochin</td>\n      <td>DEL \u2192 LKO \u2192 BOM \u2192 COK</td>\n      <td>19h</td>\n      <td>2</td>\n      <td>No info</td>\n      <td>13882.0</td>\n      <td>9</td>\n      <td>6</td>\n      <td>2019</td>\n      <td>4</td>\n      <td>25</td>\n      <td>9</td>\n      <td>25</td>\n      <td>DEL</td>\n      <td>LKO</td>\n      <td>BOM</td>\n      <td>COK</td>\n      <td>None</td>\n    </tr>\n    <tr>\n      <th>3</th>\n      <td>IndiGo</td>\n      <td>Kolkata</td>\n      <td>Banglore</td>\n      <td>CCU \u2192 NAG \u2192 BLR</td>\n      <td>5h 25m</td>\n      <td>1</td>\n      <td>No info</td>\n      <td>6218.0</td>\n      <td>12</td>\n      <td>5</td>\n      <td>2019</td>\n      <td>23</td>\n      <td>30</td>\n      <td>18</td>\n      <td>5</td>\n      <td>CCU</td>\n      <td>NAG</td>\n      <td>BLR</td>\n      <td>None</td>\n      <td>None</td>\n    </tr>\n    <tr>\n      <th>4</th>\n      <td>IndiGo</td>\n      <td>Banglore</td>\n      <td>New Delhi</td>\n      <td>BLR \u2192 NAG \u2192 DEL</td>\n      <td>4h 45m</td>\n      <td>1</td>\n      <td>No info</td>\n      <td>13302.0</td>\n      <td>1</td>\n      <td>3</td>\n      <td>2019</td>\n      <td>21</td>\n      <td>35</td>\n      <td>16</td>\n      <td>50</td>\n      <td>BLR</td>\n      <td>NAG</td>\n      <td>DEL</td>\n      <td>None</td>\n      <td>None</td>\n    </tr>\n  </tbody>\n</table>\n</div>",
                        "text/plain": "       Airline    Source Destination                  Route Duration  \\\n0       IndiGo  Banglore   New Delhi              BLR \u2192 DEL   2h 50m   \n1    Air India   Kolkata    Banglore  CCU \u2192 IXR \u2192 BBI \u2192 BLR   7h 25m   \n2  Jet Airways     Delhi      Cochin  DEL \u2192 LKO \u2192 BOM \u2192 COK      19h   \n3       IndiGo   Kolkata    Banglore        CCU \u2192 NAG \u2192 BLR   5h 25m   \n4       IndiGo  Banglore   New Delhi        BLR \u2192 NAG \u2192 DEL   4h 45m   \n\n   Total_Stops Additional_Info    Price  Date  Month  Year  Arrival_Hour  \\\n0            0         No info   3897.0    24      3  2019             1   \n1            2         No info   7662.0     1      5  2019            13   \n2            2         No info  13882.0     9      6  2019             4   \n3            1         No info   6218.0    12      5  2019            23   \n4            1         No info  13302.0     1      3  2019            21   \n\n   Arrival_Minute  Departure_Hour  Departure_Minute Route_1 Route_2 Route_3  \\\n0              10              22                20    BLR      DEL    None   \n1              15               5                50    CCU     IXR     BBI    \n2              25               9                25    DEL     LKO     BOM    \n3              30              18                 5    CCU     NAG      BLR   \n4              35              16                50    BLR     NAG      DEL   \n\n  Route_4 Route_5  \n0    None    None  \n1     BLR    None  \n2     COK    None  \n3    None    None  \n4    None    None  "
                    },
                    "execution_count": 32,
                    "metadata": {},
                    "output_type": "execute_result"
                }
            ],
            "source": "df.head()"
        },
        {
            "cell_type": "code",
            "execution_count": 33,
            "metadata": {},
            "outputs": [
                {
                    "data": {
                        "text/html": "<div>\n<style scoped>\n    .dataframe tbody tr th:only-of-type {\n        vertical-align: middle;\n    }\n\n    .dataframe tbody tr th {\n        vertical-align: top;\n    }\n\n    .dataframe thead th {\n        text-align: right;\n    }\n</style>\n<table border=\"1\" class=\"dataframe\">\n  <thead>\n    <tr style=\"text-align: right;\">\n      <th></th>\n      <th>Airline</th>\n      <th>Source</th>\n      <th>Destination</th>\n      <th>Total_Stops</th>\n      <th>Price</th>\n      <th>Date</th>\n      <th>Month</th>\n      <th>Year</th>\n      <th>Arrival_Hour</th>\n      <th>Arrival_Minute</th>\n      <th>Departure_Hour</th>\n      <th>Departure_Minute</th>\n      <th>Route_1</th>\n      <th>Route_2</th>\n      <th>Route_3</th>\n      <th>Route_4</th>\n      <th>Route_5</th>\n    </tr>\n  </thead>\n  <tbody>\n    <tr>\n      <th>0</th>\n      <td>IndiGo</td>\n      <td>Banglore</td>\n      <td>New Delhi</td>\n      <td>0</td>\n      <td>3897.0</td>\n      <td>24</td>\n      <td>3</td>\n      <td>2019</td>\n      <td>1</td>\n      <td>10</td>\n      <td>22</td>\n      <td>20</td>\n      <td>BLR</td>\n      <td>DEL</td>\n      <td>None</td>\n      <td>None</td>\n      <td>None</td>\n    </tr>\n    <tr>\n      <th>1</th>\n      <td>Air India</td>\n      <td>Kolkata</td>\n      <td>Banglore</td>\n      <td>2</td>\n      <td>7662.0</td>\n      <td>1</td>\n      <td>5</td>\n      <td>2019</td>\n      <td>13</td>\n      <td>15</td>\n      <td>5</td>\n      <td>50</td>\n      <td>CCU</td>\n      <td>IXR</td>\n      <td>BBI</td>\n      <td>BLR</td>\n      <td>None</td>\n    </tr>\n    <tr>\n      <th>2</th>\n      <td>Jet Airways</td>\n      <td>Delhi</td>\n      <td>Cochin</td>\n      <td>2</td>\n      <td>13882.0</td>\n      <td>9</td>\n      <td>6</td>\n      <td>2019</td>\n      <td>4</td>\n      <td>25</td>\n      <td>9</td>\n      <td>25</td>\n      <td>DEL</td>\n      <td>LKO</td>\n      <td>BOM</td>\n      <td>COK</td>\n      <td>None</td>\n    </tr>\n    <tr>\n      <th>3</th>\n      <td>IndiGo</td>\n      <td>Kolkata</td>\n      <td>Banglore</td>\n      <td>1</td>\n      <td>6218.0</td>\n      <td>12</td>\n      <td>5</td>\n      <td>2019</td>\n      <td>23</td>\n      <td>30</td>\n      <td>18</td>\n      <td>5</td>\n      <td>CCU</td>\n      <td>NAG</td>\n      <td>BLR</td>\n      <td>None</td>\n      <td>None</td>\n    </tr>\n    <tr>\n      <th>4</th>\n      <td>IndiGo</td>\n      <td>Banglore</td>\n      <td>New Delhi</td>\n      <td>1</td>\n      <td>13302.0</td>\n      <td>1</td>\n      <td>3</td>\n      <td>2019</td>\n      <td>21</td>\n      <td>35</td>\n      <td>16</td>\n      <td>50</td>\n      <td>BLR</td>\n      <td>NAG</td>\n      <td>DEL</td>\n      <td>None</td>\n      <td>None</td>\n    </tr>\n  </tbody>\n</table>\n</div>",
                        "text/plain": "       Airline    Source Destination  Total_Stops    Price  Date  Month  Year  \\\n0       IndiGo  Banglore   New Delhi            0   3897.0    24      3  2019   \n1    Air India   Kolkata    Banglore            2   7662.0     1      5  2019   \n2  Jet Airways     Delhi      Cochin            2  13882.0     9      6  2019   \n3       IndiGo   Kolkata    Banglore            1   6218.0    12      5  2019   \n4       IndiGo  Banglore   New Delhi            1  13302.0     1      3  2019   \n\n   Arrival_Hour  Arrival_Minute  Departure_Hour  Departure_Minute Route_1  \\\n0             1              10              22                20    BLR    \n1            13              15               5                50    CCU    \n2             4              25               9                25    DEL    \n3            23              30              18                 5    CCU    \n4            21              35              16                50    BLR    \n\n  Route_2 Route_3 Route_4 Route_5  \n0     DEL    None    None    None  \n1    IXR     BBI      BLR    None  \n2    LKO     BOM      COK    None  \n3    NAG      BLR    None    None  \n4    NAG      DEL    None    None  "
                    },
                    "execution_count": 33,
                    "metadata": {},
                    "output_type": "execute_result"
                }
            ],
            "source": "df.drop(['Route'], axis= 1, inplace= True)\ndf.drop(['Duration'], axis= 1, inplace= True)\ndf.drop(['Additional_Info'], axis= 1, inplace= True)\ndf.head()"
        },
        {
            "cell_type": "code",
            "execution_count": 34,
            "metadata": {},
            "outputs": [
                {
                    "data": {
                        "text/plain": "Airline             0\nSource              0\nDestination         0\nTotal_Stops         0\nPrice               0\nDate                0\nMonth               0\nYear                0\nArrival_Hour        0\nArrival_Minute      0\nDeparture_Hour      0\nDeparture_Minute    0\nRoute_1             0\nRoute_2             0\nRoute_3             0\nRoute_4             0\nRoute_5             0\ndtype: int64"
                    },
                    "execution_count": 34,
                    "metadata": {},
                    "output_type": "execute_result"
                }
            ],
            "source": "# Checking finally the NULL value\ndf.isnull().sum()"
        },
        {
            "cell_type": "markdown",
            "metadata": {},
            "source": "### Feature Selection"
        },
        {
            "cell_type": "code",
            "execution_count": 35,
            "metadata": {},
            "outputs": [],
            "source": "from sklearn.preprocessing import LabelEncoder\nle = LabelEncoder()\ndf['Airline'] = le.fit_transform(df['Airline'])\ndf['Source'] = le.fit_transform(df['Source'])\ndf['Destination'] = le.fit_transform(df['Destination'])\ndf['Route_1'] = le.fit_transform(df['Route_1'])\ndf['Route_2'] = le.fit_transform(df['Route_2'])\ndf['Route_3'] = le.fit_transform(df['Route_3'])\ndf['Route_4'] = le.fit_transform(df['Route_4'])\ndf['Route_5'] = le.fit_transform(df['Route_5'])"
        },
        {
            "cell_type": "code",
            "execution_count": 36,
            "metadata": {},
            "outputs": [
                {
                    "data": {
                        "text/html": "<div>\n<style scoped>\n    .dataframe tbody tr th:only-of-type {\n        vertical-align: middle;\n    }\n\n    .dataframe tbody tr th {\n        vertical-align: top;\n    }\n\n    .dataframe thead th {\n        text-align: right;\n    }\n</style>\n<table border=\"1\" class=\"dataframe\">\n  <thead>\n    <tr style=\"text-align: right;\">\n      <th></th>\n      <th>Airline</th>\n      <th>Source</th>\n      <th>Destination</th>\n      <th>Total_Stops</th>\n      <th>Price</th>\n      <th>Date</th>\n      <th>Month</th>\n      <th>Year</th>\n      <th>Arrival_Hour</th>\n      <th>Arrival_Minute</th>\n      <th>Departure_Hour</th>\n      <th>Departure_Minute</th>\n      <th>Route_1</th>\n      <th>Route_2</th>\n      <th>Route_3</th>\n      <th>Route_4</th>\n      <th>Route_5</th>\n    </tr>\n  </thead>\n  <tbody>\n    <tr>\n      <th>0</th>\n      <td>3</td>\n      <td>0</td>\n      <td>5</td>\n      <td>0</td>\n      <td>3897.0</td>\n      <td>24</td>\n      <td>3</td>\n      <td>2019</td>\n      <td>1</td>\n      <td>10</td>\n      <td>22</td>\n      <td>20</td>\n      <td>0</td>\n      <td>13</td>\n      <td>24</td>\n      <td>12</td>\n      <td>4</td>\n    </tr>\n    <tr>\n      <th>1</th>\n      <td>1</td>\n      <td>3</td>\n      <td>0</td>\n      <td>2</td>\n      <td>7662.0</td>\n      <td>1</td>\n      <td>5</td>\n      <td>2019</td>\n      <td>13</td>\n      <td>15</td>\n      <td>5</td>\n      <td>50</td>\n      <td>2</td>\n      <td>25</td>\n      <td>1</td>\n      <td>3</td>\n      <td>4</td>\n    </tr>\n    <tr>\n      <th>2</th>\n      <td>4</td>\n      <td>2</td>\n      <td>1</td>\n      <td>2</td>\n      <td>13882.0</td>\n      <td>9</td>\n      <td>6</td>\n      <td>2019</td>\n      <td>4</td>\n      <td>25</td>\n      <td>9</td>\n      <td>25</td>\n      <td>3</td>\n      <td>32</td>\n      <td>4</td>\n      <td>5</td>\n      <td>4</td>\n    </tr>\n    <tr>\n      <th>3</th>\n      <td>3</td>\n      <td>3</td>\n      <td>0</td>\n      <td>1</td>\n      <td>6218.0</td>\n      <td>12</td>\n      <td>5</td>\n      <td>2019</td>\n      <td>23</td>\n      <td>30</td>\n      <td>18</td>\n      <td>5</td>\n      <td>2</td>\n      <td>34</td>\n      <td>3</td>\n      <td>12</td>\n      <td>4</td>\n    </tr>\n    <tr>\n      <th>4</th>\n      <td>3</td>\n      <td>0</td>\n      <td>5</td>\n      <td>1</td>\n      <td>13302.0</td>\n      <td>1</td>\n      <td>3</td>\n      <td>2019</td>\n      <td>21</td>\n      <td>35</td>\n      <td>16</td>\n      <td>50</td>\n      <td>0</td>\n      <td>34</td>\n      <td>8</td>\n      <td>12</td>\n      <td>4</td>\n    </tr>\n  </tbody>\n</table>\n</div>",
                        "text/plain": "   Airline  Source  Destination  Total_Stops    Price  Date  Month  Year  \\\n0        3       0            5            0   3897.0    24      3  2019   \n1        1       3            0            2   7662.0     1      5  2019   \n2        4       2            1            2  13882.0     9      6  2019   \n3        3       3            0            1   6218.0    12      5  2019   \n4        3       0            5            1  13302.0     1      3  2019   \n\n   Arrival_Hour  Arrival_Minute  Departure_Hour  Departure_Minute  Route_1  \\\n0             1              10              22                20        0   \n1            13              15               5                50        2   \n2             4              25               9                25        3   \n3            23              30              18                 5        2   \n4            21              35              16                50        0   \n\n   Route_2  Route_3  Route_4  Route_5  \n0       13       24       12        4  \n1       25        1        3        4  \n2       32        4        5        4  \n3       34        3       12        4  \n4       34        8       12        4  "
                    },
                    "execution_count": 36,
                    "metadata": {},
                    "output_type": "execute_result"
                }
            ],
            "source": "df.head()"
        },
        {
            "cell_type": "code",
            "execution_count": 37,
            "metadata": {},
            "outputs": [
                {
                    "data": {
                        "text/plain": "array([[   3,    0,    5,    0,   24,    3, 2019,    1,   10,   22,   20],\n       [   1,    3,    0,    2,    1,    5, 2019,   13,   15,    5,   50],\n       [   4,    2,    1,    2,    9,    6, 2019,    4,   25,    9,   25],\n       [   3,    3,    0,    1,   12,    5, 2019,   23,   30,   18,    5],\n       [   3,    0,    5,    1,    1,    3, 2019,   21,   35,   16,   50]])"
                    },
                    "execution_count": 37,
                    "metadata": {},
                    "output_type": "execute_result"
                }
            ],
            "source": "X = df[['Airline', 'Source', 'Destination', 'Total_Stops', 'Date', 'Month', 'Year', 'Arrival_Hour', 'Arrival_Minute', 'Departure_Hour', 'Departure_Minute']].values\nX[:5]"
        },
        {
            "cell_type": "code",
            "execution_count": 38,
            "metadata": {},
            "outputs": [
                {
                    "data": {
                        "text/plain": "0     3897.0\n1     7662.0\n2    13882.0\n3     6218.0\n4    13302.0\nName: Price, dtype: float64"
                    },
                    "execution_count": 38,
                    "metadata": {},
                    "output_type": "execute_result"
                }
            ],
            "source": "y = df['Price']\ny[:5]"
        },
        {
            "cell_type": "code",
            "execution_count": 39,
            "metadata": {},
            "outputs": [],
            "source": "from sklearn.model_selection import train_test_split, cross_val_score"
        },
        {
            "cell_type": "code",
            "execution_count": 40,
            "metadata": {},
            "outputs": [],
            "source": "from sklearn.metrics import mean_squared_error, r2_score"
        },
        {
            "cell_type": "markdown",
            "metadata": {},
            "source": "### Linear Regression"
        },
        {
            "cell_type": "code",
            "execution_count": 41,
            "metadata": {},
            "outputs": [],
            "source": "from sklearn.linear_model import LinearRegression"
        },
        {
            "cell_type": "code",
            "execution_count": 42,
            "metadata": {},
            "outputs": [
                {
                    "name": "stdout",
                    "output_type": "stream",
                    "text": "Test: 0.342, Train: 0.343 and Random state: 0\nTest: 0.329, Train: 0.347 and Random state: 1\nTest: 0.342, Train: 0.343 and Random state: 2\nTest: 0.360, Train: 0.337 and Random state: 3\nTest: 0.353, Train: 0.340 and Random state: 4\nTest: 0.317, Train: 0.352 and Random state: 5\nTest: 0.341, Train: 0.343 and Random state: 6\nTest: 0.346, Train: 0.341 and Random state: 7\nTest: 0.338, Train: 0.344 and Random state: 8\nTest: 0.346, Train: 0.341 and Random state: 9\nTest: 0.338, Train: 0.344 and Random state: 10\nTest: 0.354, Train: 0.339 and Random state: 11\nTest: 0.346, Train: 0.341 and Random state: 12\nTest: 0.365, Train: 0.336 and Random state: 13\nTest: 0.372, Train: 0.334 and Random state: 14\nTest: 0.322, Train: 0.350 and Random state: 15\nTest: 0.354, Train: 0.338 and Random state: 16\nTest: 0.334, Train: 0.345 and Random state: 17\nTest: 0.327, Train: 0.348 and Random state: 18\nTest: 0.330, Train: 0.347 and Random state: 19\nTest: 0.330, Train: 0.346 and Random state: 20\nTest: 0.327, Train: 0.348 and Random state: 21\nTest: 0.343, Train: 0.342 and Random state: 22\nTest: 0.342, Train: 0.343 and Random state: 23\nTest: 0.344, Train: 0.342 and Random state: 24\nTest: 0.346, Train: 0.341 and Random state: 25\nTest: 0.331, Train: 0.346 and Random state: 26\nTest: 0.337, Train: 0.344 and Random state: 27\nTest: 0.355, Train: 0.338 and Random state: 28\nTest: 0.360, Train: 0.337 and Random state: 29\n"
                }
            ],
            "source": "for i in range(0, 30):\n    X_train, X_test, y_train, y_test = train_test_split(X, y, test_size= 0.25, random_state= i)\n    lr = LinearRegression(fit_intercept= True, copy_X= True).fit(X_train, y_train)\n    \n    train_score = lr.score(X_train, y_train)\n    test_score = lr.score(X_test, y_test)\n    \n    print(\"Test: {:.3f}, Train: {:.3f} and Random state: {}\".format(test_score, train_score, i))"
        },
        {
            "cell_type": "code",
            "execution_count": 43,
            "metadata": {},
            "outputs": [],
            "source": "X_train, X_test, y_train, y_test = train_test_split(X, y, test_size= 0.25, random_state= 28)\nlr = LinearRegression(fit_intercept= True, copy_X= True).fit(X_train, y_train)"
        },
        {
            "cell_type": "code",
            "execution_count": 44,
            "metadata": {},
            "outputs": [
                {
                    "name": "stdout",
                    "output_type": "stream",
                    "text": "Linear Regression Cross Validated score:  0.3366691593519839\n"
                }
            ],
            "source": "lr_cv_score = np.mean(cross_val_score(lr, X_train, y_train, cv= 5))\nprint(\"Linear Regression Cross Validated score: \", lr_cv_score)"
        },
        {
            "cell_type": "code",
            "execution_count": 46,
            "metadata": {},
            "outputs": [
                {
                    "name": "stdout",
                    "output_type": "stream",
                    "text": "Mean Price=  9063.99594900958\nLinear Regression R2 score hold out=  0.3554016166500543\nLinear Regression RMSE hold out=  3259.162448260651\n"
                }
            ],
            "source": "lr_predict = lr.predict(X_test)\nlr_mean = np.mean(y_test)\nlr_r2 = r2_score(y_test, lr_predict)\nlr_rmse = np.sqrt(mean_squared_error(y_test, lr_predict))\n\nprint(\"Mean Price= \", lr_mean)\nprint(\"Linear Regression R2 score hold out= \", lr_r2)\nprint(\"Linear Regression RMSE hold out= \", lr_rmse)"
        },
        {
            "cell_type": "markdown",
            "metadata": {},
            "source": "### KNN Regressor"
        },
        {
            "cell_type": "code",
            "execution_count": 47,
            "metadata": {},
            "outputs": [],
            "source": "from sklearn.neighbors import KNeighborsRegressor"
        },
        {
            "cell_type": "code",
            "execution_count": 52,
            "metadata": {},
            "outputs": [
                {
                    "name": "stdout",
                    "output_type": "stream",
                    "text": "Test score: 0.267, Train score: 0.891 and random state= 1\nTest score: 0.422, Train score: 0.788 and random state= 2\nTest score: 0.358, Train score: 0.728 and random state= 3\nTest score: 0.408, Train score: 0.685 and random state= 4\nTest score: 0.436, Train score: 0.642 and random state= 5\nTest score: 0.379, Train score: 0.621 and random state= 6\nTest score: 0.421, Train score: 0.585 and random state= 7\nTest score: 0.453, Train score: 0.569 and random state= 8\nTest score: 0.426, Train score: 0.555 and random state= 9\nTest score: 0.427, Train score: 0.540 and random state= 10\nTest score: 0.401, Train score: 0.523 and random state= 11\nTest score: 0.396, Train score: 0.507 and random state= 12\nTest score: 0.397, Train score: 0.496 and random state= 13\nTest score: 0.420, Train score: 0.475 and random state= 14\nTest score: 0.364, Train score: 0.482 and random state= 15\nTest score: 0.362, Train score: 0.464 and random state= 16\nTest score: 0.346, Train score: 0.454 and random state= 17\nTest score: 0.380, Train score: 0.439 and random state= 18\nTest score: 0.356, Train score: 0.441 and random state= 19\nTest score: 0.340, Train score: 0.432 and random state= 20\nTest score: 0.337, Train score: 0.423 and random state= 21\nTest score: 0.331, Train score: 0.417 and random state= 22\nTest score: 0.339, Train score: 0.410 and random state= 23\nTest score: 0.349, Train score: 0.395 and random state= 24\nTest score: 0.325, Train score: 0.391 and random state= 25\nTest score: 0.318, Train score: 0.388 and random state= 26\nTest score: 0.301, Train score: 0.392 and random state= 27\nTest score: 0.337, Train score: 0.371 and random state= 28\nTest score: 0.316, Train score: 0.371 and random state= 29\nTest score: 0.299, Train score: 0.372 and random state= 30\n"
                }
            ],
            "source": "for i in range(1, 31):\n    X_train, X_test, y_train, y_test = train_test_split(X, y, random_state= i)\n    \n    knn_regressor = KNeighborsRegressor(n_neighbors= i, weights= 'uniform', algorithm= 'auto', metric= 'euclidean')\n    knn_regressor.fit(X_train, y_train)\n    \n    train_score = knn_regressor.score(X_train, y_train)\n    test_score = knn_regressor.score(X_test, y_test)\n    \n    print(\"Test score: {:.3f}, Train score: {:.3f} and random state= {}\".format(test_score, train_score, i))"
        },
        {
            "cell_type": "code",
            "execution_count": null,
            "metadata": {},
            "outputs": [],
            "source": "X_train, X_test, y_train, y_test = train_test_split(X, y, random_state= 5)\n    \nknn_regressor = KNeighborsRegressor(n_neighbors= i, weights= 'uniform', algorithm= 'auto', metric= 'euclidean')\nknn_regressor.fit(X_train, y_train)"
        },
        {
            "cell_type": "code",
            "execution_count": 53,
            "metadata": {},
            "outputs": [
                {
                    "name": "stdout",
                    "output_type": "stream",
                    "text": "KNN Regressor Cross validated score:  0.3010593478122501\n"
                }
            ],
            "source": "knn_regressor_cv_score = np.mean(cross_val_score(knn_regressor, X_train, y_train, cv= 5))\nprint(\"KNN Regressor Cross validated score: \", knn_regressor_cv_score)"
        },
        {
            "cell_type": "code",
            "execution_count": 54,
            "metadata": {},
            "outputs": [
                {
                    "name": "stdout",
                    "output_type": "stream",
                    "text": "Mean Price =  9171.496014175409\nKNN R2 score on hold out set =  0.29895186208499924\nKNN RMSE score =  3337.088237601387\n"
                }
            ],
            "source": "knn_predict = knn_regressor.predict(X_test)\nknn_regressor_mean = np.mean(y_test)\nknn_regressor_r2 = r2_score(y_test, knn_predict)\nknn_regressor_rmse = np.sqrt(mean_squared_error(y_test, knn_predict))\n\nprint(\"Mean Price = \", knn_regressor_mean)\nprint(\"KNN R2 score on hold out set = \", knn_regressor_r2)\nprint(\"KNN RMSE score = \", knn_regressor_rmse)"
        },
        {
            "cell_type": "markdown",
            "metadata": {},
            "source": "### Ridge Regression"
        },
        {
            "cell_type": "code",
            "execution_count": 55,
            "metadata": {},
            "outputs": [],
            "source": "from sklearn.linear_model import Ridge"
        },
        {
            "cell_type": "code",
            "execution_count": null,
            "metadata": {},
            "outputs": [],
            "source": ""
        },
        {
            "cell_type": "code",
            "execution_count": null,
            "metadata": {},
            "outputs": [],
            "source": ""
        }
    ],
    "metadata": {
        "kernelspec": {
            "display_name": "Python 3.6",
            "language": "python",
            "name": "python3"
        },
        "language_info": {
            "codemirror_mode": {
                "name": "ipython",
                "version": 3
            },
            "file_extension": ".py",
            "mimetype": "text/x-python",
            "name": "python",
            "nbconvert_exporter": "python",
            "pygments_lexer": "ipython3",
            "version": "3.6.9"
        }
    },
    "nbformat": 4,
    "nbformat_minor": 1
}